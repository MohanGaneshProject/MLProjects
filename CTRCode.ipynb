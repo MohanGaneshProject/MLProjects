{
 "cells": [
  {
   "cell_type": "markdown",
   "id": "ef2f3107",
   "metadata": {},
   "source": [
    "## Problem Statement\n"
   ]
  },
  {
   "cell_type": "markdown",
   "id": "addaca98",
   "metadata": {},
   "source": [
    "Most organizations today rely on email campaigns for effective communication with users. Email communication is one of the popular ways to pitch products to users and build trustworthy relationships with them.\n",
    "\n",
    "\n",
    "Email campaigns contain different types of CTA (Call To Action). The ultimate goal of email campaigns is to maximize the Click Through Rate (CTR).\n",
    "\n",
    "\n",
    "CTR is a measure of success for email campaigns. The higher the click rate, the better your email marketing campaign is. CTR is calculated by the no. of users who clicked on at least one of the CTA divided by the total no. of users the email was delivered to.\n",
    "\n",
    "\n",
    "CTR =   No. of users who clicked on at least one of the CTA / No. of emails delivered\n",
    "\n",
    "\n",
    "CTR depends on multiple factors like design, content, personalization, etc. \n",
    "\n",
    "\n",
    "How do you design the email content effectively?\n",
    "What should your subject line look like?\n",
    "What should be the length of the email?\n",
    "Do you need images in your email template?\n",
    "\n",
    "As a part of the Data Science team, in this hackathon, you will build a smart system to predict the CTR for email campaigns and therefore identify the critical factors that will help the marketing team to maximize the CTR."
   ]
  },
  {
   "cell_type": "markdown",
   "id": "e397c294",
   "metadata": {},
   "source": [
    "## Table of Content\n"
   ]
  },
  {
   "cell_type": "markdown",
   "id": "ed7984b8",
   "metadata": {},
   "source": [
    "* __Step 1: Importing the Relevant Libraries__\n",
    "    \n",
    "* __Step 2: Data Inspection__\n",
    "    \n",
    "* __Step 3: Exploratory Data Analysis__\n",
    "\n",
    "* __Step 4 : Splitting the data__\n",
    "  \n",
    "* __Step 5 : Choosing the correct model__\n",
    "\n",
    "* __Step 6 : Building the Model__\n",
    "\n",
    "* __Step 7 : Predicting the data__\n",
    "\n",
    "* __Step 8 : Improving the Model Performance__\n",
    "\n",
    "* __Step 9 : Submission__\n",
    "\n",
    "\n",
    "\n",
    "\n"
   ]
  },
  {
   "cell_type": "markdown",
   "id": "e34cfdf6",
   "metadata": {},
   "source": [
    "### Step 1: Importing the Relevant Libraries\n"
   ]
  },
  {
   "cell_type": "code",
   "execution_count": 3,
   "id": "3b45c14d",
   "metadata": {},
   "outputs": [],
   "source": [
    "import matplotlib.pyplot as plt\n",
    "import pandas as pd\n",
    "import numpy as np\n",
    "import seaborn as sns\n",
    "\n",
    "from sklearn.preprocessing import LabelEncoder\n",
    "from sklearn.model_selection import train_test_split\n",
    "from sklearn import metrics\n",
    "from sklearn.linear_model import LinearRegression\n",
    "\n",
    "import warnings\n",
    "warnings.filterwarnings('always')\n",
    "warnings.filterwarnings('ignore')"
   ]
  },
  {
   "cell_type": "markdown",
   "id": "d29c2b07",
   "metadata": {},
   "source": [
    "### Step 2: Data Inspection"
   ]
  },
  {
   "cell_type": "code",
   "execution_count": 24,
   "id": "c98624bb",
   "metadata": {},
   "outputs": [],
   "source": [
    "train = pd.read_csv(\"train_F3fUq2S.csv\")\n",
    "test = pd.read_csv(\"test_Bk2wfZ3.csv\")"
   ]
  },
  {
   "cell_type": "code",
   "execution_count": 25,
   "id": "a0d904af",
   "metadata": {},
   "outputs": [
    {
     "data": {
      "text/html": [
       "<div>\n",
       "<style scoped>\n",
       "    .dataframe tbody tr th:only-of-type {\n",
       "        vertical-align: middle;\n",
       "    }\n",
       "\n",
       "    .dataframe tbody tr th {\n",
       "        vertical-align: top;\n",
       "    }\n",
       "\n",
       "    .dataframe thead th {\n",
       "        text-align: right;\n",
       "    }\n",
       "</style>\n",
       "<table border=\"1\" class=\"dataframe\">\n",
       "  <thead>\n",
       "    <tr style=\"text-align: right;\">\n",
       "      <th></th>\n",
       "      <th>campaign_id</th>\n",
       "      <th>sender</th>\n",
       "      <th>subject_len</th>\n",
       "      <th>body_len</th>\n",
       "      <th>mean_paragraph_len</th>\n",
       "      <th>day_of_week</th>\n",
       "      <th>is_weekend</th>\n",
       "      <th>times_of_day</th>\n",
       "      <th>category</th>\n",
       "      <th>product</th>\n",
       "      <th>...</th>\n",
       "      <th>is_image</th>\n",
       "      <th>is_personalised</th>\n",
       "      <th>is_quote</th>\n",
       "      <th>is_timer</th>\n",
       "      <th>is_emoticons</th>\n",
       "      <th>is_discount</th>\n",
       "      <th>is_price</th>\n",
       "      <th>is_urgency</th>\n",
       "      <th>target_audience</th>\n",
       "      <th>click_rate</th>\n",
       "    </tr>\n",
       "  </thead>\n",
       "  <tbody>\n",
       "    <tr>\n",
       "      <th>0</th>\n",
       "      <td>1</td>\n",
       "      <td>3</td>\n",
       "      <td>76</td>\n",
       "      <td>10439</td>\n",
       "      <td>39</td>\n",
       "      <td>5</td>\n",
       "      <td>1</td>\n",
       "      <td>Noon</td>\n",
       "      <td>6</td>\n",
       "      <td>26</td>\n",
       "      <td>...</td>\n",
       "      <td>0</td>\n",
       "      <td>0</td>\n",
       "      <td>0</td>\n",
       "      <td>0</td>\n",
       "      <td>0</td>\n",
       "      <td>0</td>\n",
       "      <td>0</td>\n",
       "      <td>0</td>\n",
       "      <td>14</td>\n",
       "      <td>0.103079</td>\n",
       "    </tr>\n",
       "    <tr>\n",
       "      <th>1</th>\n",
       "      <td>2</td>\n",
       "      <td>3</td>\n",
       "      <td>54</td>\n",
       "      <td>2570</td>\n",
       "      <td>256</td>\n",
       "      <td>5</td>\n",
       "      <td>1</td>\n",
       "      <td>Morning</td>\n",
       "      <td>2</td>\n",
       "      <td>11</td>\n",
       "      <td>...</td>\n",
       "      <td>0</td>\n",
       "      <td>0</td>\n",
       "      <td>0</td>\n",
       "      <td>0</td>\n",
       "      <td>0</td>\n",
       "      <td>0</td>\n",
       "      <td>0</td>\n",
       "      <td>0</td>\n",
       "      <td>10</td>\n",
       "      <td>0.700000</td>\n",
       "    </tr>\n",
       "    <tr>\n",
       "      <th>2</th>\n",
       "      <td>3</td>\n",
       "      <td>3</td>\n",
       "      <td>59</td>\n",
       "      <td>12801</td>\n",
       "      <td>16</td>\n",
       "      <td>5</td>\n",
       "      <td>1</td>\n",
       "      <td>Noon</td>\n",
       "      <td>2</td>\n",
       "      <td>11</td>\n",
       "      <td>...</td>\n",
       "      <td>1</td>\n",
       "      <td>0</td>\n",
       "      <td>1</td>\n",
       "      <td>0</td>\n",
       "      <td>0</td>\n",
       "      <td>0</td>\n",
       "      <td>0</td>\n",
       "      <td>0</td>\n",
       "      <td>16</td>\n",
       "      <td>0.002769</td>\n",
       "    </tr>\n",
       "    <tr>\n",
       "      <th>3</th>\n",
       "      <td>4</td>\n",
       "      <td>3</td>\n",
       "      <td>74</td>\n",
       "      <td>11037</td>\n",
       "      <td>30</td>\n",
       "      <td>4</td>\n",
       "      <td>0</td>\n",
       "      <td>Evening</td>\n",
       "      <td>15</td>\n",
       "      <td>9</td>\n",
       "      <td>...</td>\n",
       "      <td>0</td>\n",
       "      <td>0</td>\n",
       "      <td>0</td>\n",
       "      <td>0</td>\n",
       "      <td>0</td>\n",
       "      <td>0</td>\n",
       "      <td>0</td>\n",
       "      <td>0</td>\n",
       "      <td>10</td>\n",
       "      <td>0.010868</td>\n",
       "    </tr>\n",
       "    <tr>\n",
       "      <th>4</th>\n",
       "      <td>5</td>\n",
       "      <td>3</td>\n",
       "      <td>80</td>\n",
       "      <td>10011</td>\n",
       "      <td>27</td>\n",
       "      <td>5</td>\n",
       "      <td>1</td>\n",
       "      <td>Noon</td>\n",
       "      <td>6</td>\n",
       "      <td>26</td>\n",
       "      <td>...</td>\n",
       "      <td>0</td>\n",
       "      <td>0</td>\n",
       "      <td>1</td>\n",
       "      <td>0</td>\n",
       "      <td>0</td>\n",
       "      <td>0</td>\n",
       "      <td>0</td>\n",
       "      <td>0</td>\n",
       "      <td>14</td>\n",
       "      <td>0.142826</td>\n",
       "    </tr>\n",
       "  </tbody>\n",
       "</table>\n",
       "<p>5 rows × 22 columns</p>\n",
       "</div>"
      ],
      "text/plain": [
       "   campaign_id  sender  subject_len  body_len  mean_paragraph_len  \\\n",
       "0            1       3           76     10439                  39   \n",
       "1            2       3           54      2570                 256   \n",
       "2            3       3           59     12801                  16   \n",
       "3            4       3           74     11037                  30   \n",
       "4            5       3           80     10011                  27   \n",
       "\n",
       "   day_of_week  is_weekend times_of_day  category  product  ...  is_image  \\\n",
       "0            5           1         Noon         6       26  ...         0   \n",
       "1            5           1      Morning         2       11  ...         0   \n",
       "2            5           1         Noon         2       11  ...         1   \n",
       "3            4           0      Evening        15        9  ...         0   \n",
       "4            5           1         Noon         6       26  ...         0   \n",
       "\n",
       "   is_personalised  is_quote  is_timer  is_emoticons  is_discount  is_price  \\\n",
       "0                0         0         0             0            0         0   \n",
       "1                0         0         0             0            0         0   \n",
       "2                0         1         0             0            0         0   \n",
       "3                0         0         0             0            0         0   \n",
       "4                0         1         0             0            0         0   \n",
       "\n",
       "   is_urgency  target_audience  click_rate  \n",
       "0           0               14    0.103079  \n",
       "1           0               10    0.700000  \n",
       "2           0               16    0.002769  \n",
       "3           0               10    0.010868  \n",
       "4           0               14    0.142826  \n",
       "\n",
       "[5 rows x 22 columns]"
      ]
     },
     "execution_count": 25,
     "metadata": {},
     "output_type": "execute_result"
    }
   ],
   "source": [
    "train.head()"
   ]
  },
  {
   "cell_type": "code",
   "execution_count": 26,
   "id": "ec2e1e61",
   "metadata": {},
   "outputs": [
    {
     "data": {
      "text/html": [
       "<div>\n",
       "<style scoped>\n",
       "    .dataframe tbody tr th:only-of-type {\n",
       "        vertical-align: middle;\n",
       "    }\n",
       "\n",
       "    .dataframe tbody tr th {\n",
       "        vertical-align: top;\n",
       "    }\n",
       "\n",
       "    .dataframe thead th {\n",
       "        text-align: right;\n",
       "    }\n",
       "</style>\n",
       "<table border=\"1\" class=\"dataframe\">\n",
       "  <thead>\n",
       "    <tr style=\"text-align: right;\">\n",
       "      <th></th>\n",
       "      <th>campaign_id</th>\n",
       "      <th>sender</th>\n",
       "      <th>subject_len</th>\n",
       "      <th>body_len</th>\n",
       "      <th>mean_paragraph_len</th>\n",
       "      <th>day_of_week</th>\n",
       "      <th>is_weekend</th>\n",
       "      <th>times_of_day</th>\n",
       "      <th>category</th>\n",
       "      <th>product</th>\n",
       "      <th>...</th>\n",
       "      <th>mean_CTA_len</th>\n",
       "      <th>is_image</th>\n",
       "      <th>is_personalised</th>\n",
       "      <th>is_quote</th>\n",
       "      <th>is_timer</th>\n",
       "      <th>is_emoticons</th>\n",
       "      <th>is_discount</th>\n",
       "      <th>is_price</th>\n",
       "      <th>is_urgency</th>\n",
       "      <th>target_audience</th>\n",
       "    </tr>\n",
       "  </thead>\n",
       "  <tbody>\n",
       "    <tr>\n",
       "      <th>0</th>\n",
       "      <td>1889</td>\n",
       "      <td>3</td>\n",
       "      <td>61</td>\n",
       "      <td>12871</td>\n",
       "      <td>11</td>\n",
       "      <td>6</td>\n",
       "      <td>1</td>\n",
       "      <td>Noon</td>\n",
       "      <td>6</td>\n",
       "      <td>26</td>\n",
       "      <td>...</td>\n",
       "      <td>37</td>\n",
       "      <td>1</td>\n",
       "      <td>0</td>\n",
       "      <td>0</td>\n",
       "      <td>0</td>\n",
       "      <td>1</td>\n",
       "      <td>0</td>\n",
       "      <td>0</td>\n",
       "      <td>0</td>\n",
       "      <td>14</td>\n",
       "    </tr>\n",
       "    <tr>\n",
       "      <th>1</th>\n",
       "      <td>1890</td>\n",
       "      <td>3</td>\n",
       "      <td>54</td>\n",
       "      <td>2569</td>\n",
       "      <td>256</td>\n",
       "      <td>5</td>\n",
       "      <td>1</td>\n",
       "      <td>Morning</td>\n",
       "      <td>2</td>\n",
       "      <td>11</td>\n",
       "      <td>...</td>\n",
       "      <td>22</td>\n",
       "      <td>0</td>\n",
       "      <td>0</td>\n",
       "      <td>0</td>\n",
       "      <td>0</td>\n",
       "      <td>0</td>\n",
       "      <td>0</td>\n",
       "      <td>0</td>\n",
       "      <td>0</td>\n",
       "      <td>10</td>\n",
       "    </tr>\n",
       "    <tr>\n",
       "      <th>2</th>\n",
       "      <td>1891</td>\n",
       "      <td>3</td>\n",
       "      <td>88</td>\n",
       "      <td>1473</td>\n",
       "      <td>78</td>\n",
       "      <td>4</td>\n",
       "      <td>0</td>\n",
       "      <td>Evening</td>\n",
       "      <td>2</td>\n",
       "      <td>11</td>\n",
       "      <td>...</td>\n",
       "      <td>22</td>\n",
       "      <td>1</td>\n",
       "      <td>0</td>\n",
       "      <td>1</td>\n",
       "      <td>0</td>\n",
       "      <td>0</td>\n",
       "      <td>0</td>\n",
       "      <td>0</td>\n",
       "      <td>0</td>\n",
       "      <td>10</td>\n",
       "    </tr>\n",
       "    <tr>\n",
       "      <th>3</th>\n",
       "      <td>1892</td>\n",
       "      <td>3</td>\n",
       "      <td>88</td>\n",
       "      <td>1473</td>\n",
       "      <td>78</td>\n",
       "      <td>3</td>\n",
       "      <td>0</td>\n",
       "      <td>Evening</td>\n",
       "      <td>2</td>\n",
       "      <td>11</td>\n",
       "      <td>...</td>\n",
       "      <td>22</td>\n",
       "      <td>1</td>\n",
       "      <td>0</td>\n",
       "      <td>1</td>\n",
       "      <td>0</td>\n",
       "      <td>0</td>\n",
       "      <td>0</td>\n",
       "      <td>0</td>\n",
       "      <td>0</td>\n",
       "      <td>10</td>\n",
       "    </tr>\n",
       "    <tr>\n",
       "      <th>4</th>\n",
       "      <td>1893</td>\n",
       "      <td>3</td>\n",
       "      <td>78</td>\n",
       "      <td>9020</td>\n",
       "      <td>29</td>\n",
       "      <td>3</td>\n",
       "      <td>0</td>\n",
       "      <td>Noon</td>\n",
       "      <td>6</td>\n",
       "      <td>26</td>\n",
       "      <td>...</td>\n",
       "      <td>40</td>\n",
       "      <td>0</td>\n",
       "      <td>0</td>\n",
       "      <td>0</td>\n",
       "      <td>0</td>\n",
       "      <td>0</td>\n",
       "      <td>0</td>\n",
       "      <td>0</td>\n",
       "      <td>0</td>\n",
       "      <td>14</td>\n",
       "    </tr>\n",
       "  </tbody>\n",
       "</table>\n",
       "<p>5 rows × 21 columns</p>\n",
       "</div>"
      ],
      "text/plain": [
       "   campaign_id  sender  subject_len  body_len  mean_paragraph_len  \\\n",
       "0         1889       3           61     12871                  11   \n",
       "1         1890       3           54      2569                 256   \n",
       "2         1891       3           88      1473                  78   \n",
       "3         1892       3           88      1473                  78   \n",
       "4         1893       3           78      9020                  29   \n",
       "\n",
       "   day_of_week  is_weekend times_of_day  category  product  ...  mean_CTA_len  \\\n",
       "0            6           1         Noon         6       26  ...            37   \n",
       "1            5           1      Morning         2       11  ...            22   \n",
       "2            4           0      Evening         2       11  ...            22   \n",
       "3            3           0      Evening         2       11  ...            22   \n",
       "4            3           0         Noon         6       26  ...            40   \n",
       "\n",
       "   is_image  is_personalised  is_quote  is_timer  is_emoticons  is_discount  \\\n",
       "0         1                0         0         0             1            0   \n",
       "1         0                0         0         0             0            0   \n",
       "2         1                0         1         0             0            0   \n",
       "3         1                0         1         0             0            0   \n",
       "4         0                0         0         0             0            0   \n",
       "\n",
       "   is_price  is_urgency  target_audience  \n",
       "0         0           0               14  \n",
       "1         0           0               10  \n",
       "2         0           0               10  \n",
       "3         0           0               10  \n",
       "4         0           0               14  \n",
       "\n",
       "[5 rows x 21 columns]"
      ]
     },
     "execution_count": 26,
     "metadata": {},
     "output_type": "execute_result"
    }
   ],
   "source": [
    "test.head()"
   ]
  },
  {
   "cell_type": "code",
   "execution_count": 27,
   "id": "fd7b4b02",
   "metadata": {},
   "outputs": [
    {
     "data": {
      "text/plain": [
       "((1888, 22), (762, 21))"
      ]
     },
     "execution_count": 27,
     "metadata": {},
     "output_type": "execute_result"
    }
   ],
   "source": [
    "train.shape, test.shape"
   ]
  },
  {
   "cell_type": "markdown",
   "id": "302b5eb5",
   "metadata": {},
   "source": [
    "* __We have 1888 rows and 22 columns in Train set whereas Test set has 762 rows and 21 columns.__"
   ]
  },
  {
   "cell_type": "code",
   "execution_count": 28,
   "id": "1b630ab5",
   "metadata": {},
   "outputs": [
    {
     "data": {
      "text/plain": [
       "campaign_id           0\n",
       "sender                0\n",
       "subject_len           0\n",
       "body_len              0\n",
       "mean_paragraph_len    0\n",
       "day_of_week           0\n",
       "is_weekend            0\n",
       "times_of_day          0\n",
       "category              0\n",
       "product               0\n",
       "no_of_CTA             0\n",
       "mean_CTA_len          0\n",
       "is_image              0\n",
       "is_personalised       0\n",
       "is_quote              0\n",
       "is_timer              0\n",
       "is_emoticons          0\n",
       "is_discount           0\n",
       "is_price              0\n",
       "is_urgency            0\n",
       "target_audience       0\n",
       "click_rate            0\n",
       "dtype: int64"
      ]
     },
     "execution_count": 28,
     "metadata": {},
     "output_type": "execute_result"
    }
   ],
   "source": [
    "# Checking the Missing values\n",
    "train.isnull().sum()"
   ]
  },
  {
   "cell_type": "code",
   "execution_count": 29,
   "id": "11df5b71",
   "metadata": {},
   "outputs": [
    {
     "data": {
      "text/plain": [
       "campaign_id           0\n",
       "sender                0\n",
       "subject_len           0\n",
       "body_len              0\n",
       "mean_paragraph_len    0\n",
       "day_of_week           0\n",
       "is_weekend            0\n",
       "times_of_day          0\n",
       "category              0\n",
       "product               0\n",
       "no_of_CTA             0\n",
       "mean_CTA_len          0\n",
       "is_image              0\n",
       "is_personalised       0\n",
       "is_quote              0\n",
       "is_timer              0\n",
       "is_emoticons          0\n",
       "is_discount           0\n",
       "is_price              0\n",
       "is_urgency            0\n",
       "target_audience       0\n",
       "dtype: int64"
      ]
     },
     "execution_count": 29,
     "metadata": {},
     "output_type": "execute_result"
    }
   ],
   "source": [
    "test.isnull().sum()"
   ]
  },
  {
   "cell_type": "markdown",
   "id": "050b29e8",
   "metadata": {},
   "source": [
    "*  __There are no missing values in both Train and Test datasets__"
   ]
  },
  {
   "cell_type": "markdown",
   "id": "5d2b6e09",
   "metadata": {},
   "source": [
    "### Step 3: Exploratory Data Analysis"
   ]
  },
  {
   "cell_type": "code",
   "execution_count": 30,
   "id": "10514b7e",
   "metadata": {},
   "outputs": [
    {
     "data": {
      "text/html": [
       "<div>\n",
       "<style scoped>\n",
       "    .dataframe tbody tr th:only-of-type {\n",
       "        vertical-align: middle;\n",
       "    }\n",
       "\n",
       "    .dataframe tbody tr th {\n",
       "        vertical-align: top;\n",
       "    }\n",
       "\n",
       "    .dataframe thead th {\n",
       "        text-align: right;\n",
       "    }\n",
       "</style>\n",
       "<table border=\"1\" class=\"dataframe\">\n",
       "  <thead>\n",
       "    <tr style=\"text-align: right;\">\n",
       "      <th></th>\n",
       "      <th>campaign_id</th>\n",
       "      <th>sender</th>\n",
       "      <th>subject_len</th>\n",
       "      <th>body_len</th>\n",
       "      <th>mean_paragraph_len</th>\n",
       "      <th>day_of_week</th>\n",
       "      <th>is_weekend</th>\n",
       "      <th>times_of_day</th>\n",
       "      <th>category</th>\n",
       "      <th>product</th>\n",
       "      <th>...</th>\n",
       "      <th>is_image</th>\n",
       "      <th>is_personalised</th>\n",
       "      <th>is_quote</th>\n",
       "      <th>is_timer</th>\n",
       "      <th>is_emoticons</th>\n",
       "      <th>is_discount</th>\n",
       "      <th>is_price</th>\n",
       "      <th>is_urgency</th>\n",
       "      <th>target_audience</th>\n",
       "      <th>click_rate</th>\n",
       "    </tr>\n",
       "  </thead>\n",
       "  <tbody>\n",
       "    <tr>\n",
       "      <th>0</th>\n",
       "      <td>1</td>\n",
       "      <td>3</td>\n",
       "      <td>76</td>\n",
       "      <td>10439</td>\n",
       "      <td>39</td>\n",
       "      <td>5</td>\n",
       "      <td>1</td>\n",
       "      <td>Noon</td>\n",
       "      <td>6</td>\n",
       "      <td>26</td>\n",
       "      <td>...</td>\n",
       "      <td>0</td>\n",
       "      <td>0</td>\n",
       "      <td>0</td>\n",
       "      <td>0</td>\n",
       "      <td>0</td>\n",
       "      <td>0</td>\n",
       "      <td>0</td>\n",
       "      <td>0</td>\n",
       "      <td>14</td>\n",
       "      <td>0.103079</td>\n",
       "    </tr>\n",
       "    <tr>\n",
       "      <th>1</th>\n",
       "      <td>2</td>\n",
       "      <td>3</td>\n",
       "      <td>54</td>\n",
       "      <td>2570</td>\n",
       "      <td>256</td>\n",
       "      <td>5</td>\n",
       "      <td>1</td>\n",
       "      <td>Morning</td>\n",
       "      <td>2</td>\n",
       "      <td>11</td>\n",
       "      <td>...</td>\n",
       "      <td>0</td>\n",
       "      <td>0</td>\n",
       "      <td>0</td>\n",
       "      <td>0</td>\n",
       "      <td>0</td>\n",
       "      <td>0</td>\n",
       "      <td>0</td>\n",
       "      <td>0</td>\n",
       "      <td>10</td>\n",
       "      <td>0.700000</td>\n",
       "    </tr>\n",
       "    <tr>\n",
       "      <th>2</th>\n",
       "      <td>3</td>\n",
       "      <td>3</td>\n",
       "      <td>59</td>\n",
       "      <td>12801</td>\n",
       "      <td>16</td>\n",
       "      <td>5</td>\n",
       "      <td>1</td>\n",
       "      <td>Noon</td>\n",
       "      <td>2</td>\n",
       "      <td>11</td>\n",
       "      <td>...</td>\n",
       "      <td>1</td>\n",
       "      <td>0</td>\n",
       "      <td>1</td>\n",
       "      <td>0</td>\n",
       "      <td>0</td>\n",
       "      <td>0</td>\n",
       "      <td>0</td>\n",
       "      <td>0</td>\n",
       "      <td>16</td>\n",
       "      <td>0.002769</td>\n",
       "    </tr>\n",
       "    <tr>\n",
       "      <th>3</th>\n",
       "      <td>4</td>\n",
       "      <td>3</td>\n",
       "      <td>74</td>\n",
       "      <td>11037</td>\n",
       "      <td>30</td>\n",
       "      <td>4</td>\n",
       "      <td>0</td>\n",
       "      <td>Evening</td>\n",
       "      <td>15</td>\n",
       "      <td>9</td>\n",
       "      <td>...</td>\n",
       "      <td>0</td>\n",
       "      <td>0</td>\n",
       "      <td>0</td>\n",
       "      <td>0</td>\n",
       "      <td>0</td>\n",
       "      <td>0</td>\n",
       "      <td>0</td>\n",
       "      <td>0</td>\n",
       "      <td>10</td>\n",
       "      <td>0.010868</td>\n",
       "    </tr>\n",
       "    <tr>\n",
       "      <th>4</th>\n",
       "      <td>5</td>\n",
       "      <td>3</td>\n",
       "      <td>80</td>\n",
       "      <td>10011</td>\n",
       "      <td>27</td>\n",
       "      <td>5</td>\n",
       "      <td>1</td>\n",
       "      <td>Noon</td>\n",
       "      <td>6</td>\n",
       "      <td>26</td>\n",
       "      <td>...</td>\n",
       "      <td>0</td>\n",
       "      <td>0</td>\n",
       "      <td>1</td>\n",
       "      <td>0</td>\n",
       "      <td>0</td>\n",
       "      <td>0</td>\n",
       "      <td>0</td>\n",
       "      <td>0</td>\n",
       "      <td>14</td>\n",
       "      <td>0.142826</td>\n",
       "    </tr>\n",
       "  </tbody>\n",
       "</table>\n",
       "<p>5 rows × 22 columns</p>\n",
       "</div>"
      ],
      "text/plain": [
       "   campaign_id  sender  subject_len  body_len  mean_paragraph_len  \\\n",
       "0            1       3           76     10439                  39   \n",
       "1            2       3           54      2570                 256   \n",
       "2            3       3           59     12801                  16   \n",
       "3            4       3           74     11037                  30   \n",
       "4            5       3           80     10011                  27   \n",
       "\n",
       "   day_of_week  is_weekend times_of_day  category  product  ...  is_image  \\\n",
       "0            5           1         Noon         6       26  ...         0   \n",
       "1            5           1      Morning         2       11  ...         0   \n",
       "2            5           1         Noon         2       11  ...         1   \n",
       "3            4           0      Evening        15        9  ...         0   \n",
       "4            5           1         Noon         6       26  ...         0   \n",
       "\n",
       "   is_personalised  is_quote  is_timer  is_emoticons  is_discount  is_price  \\\n",
       "0                0         0         0             0            0         0   \n",
       "1                0         0         0             0            0         0   \n",
       "2                0         1         0             0            0         0   \n",
       "3                0         0         0             0            0         0   \n",
       "4                0         1         0             0            0         0   \n",
       "\n",
       "   is_urgency  target_audience  click_rate  \n",
       "0           0               14    0.103079  \n",
       "1           0               10    0.700000  \n",
       "2           0               16    0.002769  \n",
       "3           0               10    0.010868  \n",
       "4           0               14    0.142826  \n",
       "\n",
       "[5 rows x 22 columns]"
      ]
     },
     "execution_count": 30,
     "metadata": {},
     "output_type": "execute_result"
    }
   ],
   "source": [
    "train.head()"
   ]
  },
  {
   "cell_type": "code",
   "execution_count": 31,
   "id": "763e1b7b",
   "metadata": {},
   "outputs": [
    {
     "data": {
      "image/png": "[encoded data removed]",
      "text/plain": [
       "<Figure size 576x360 with 1 Axes>"
      ]
     },
     "metadata": {
      "needs_background": "light"
     },
     "output_type": "display_data"
    }
   ],
   "source": [
    "plt.figure(figsize=(8,5))\n",
    "sns.countplot(\"times_of_day\",data=train);"
   ]
  },
  {
   "cell_type": "code",
   "execution_count": 32,
   "id": "48c0da43",
   "metadata": {},
   "outputs": [
    {
     "name": "stdout",
     "output_type": "stream",
     "text": [
      "<class 'pandas.core.frame.DataFrame'>\n",
      "RangeIndex: 1888 entries, 0 to 1887\n",
      "Data columns (total 22 columns):\n",
      " #   Column              Non-Null Count  Dtype  \n",
      "---  ------              --------------  -----  \n",
      " 0   campaign_id         1888 non-null   int64  \n",
      " 1   sender              1888 non-null   int64  \n",
      " 2   subject_len         1888 non-null   int64  \n",
      " 3   body_len            1888 non-null   int64  \n",
      " 4   mean_paragraph_len  1888 non-null   int64  \n",
      " 5   day_of_week         1888 non-null   int64  \n",
      " 6   is_weekend          1888 non-null   int64  \n",
      " 7   times_of_day        1888 non-null   object \n",
      " 8   category            1888 non-null   int64  \n",
      " 9   product             1888 non-null   int64  \n",
      " 10  no_of_CTA           1888 non-null   int64  \n",
      " 11  mean_CTA_len        1888 non-null   int64  \n",
      " 12  is_image            1888 non-null   int64  \n",
      " 13  is_personalised     1888 non-null   int64  \n",
      " 14  is_quote            1888 non-null   int64  \n",
      " 15  is_timer            1888 non-null   int64  \n",
      " 16  is_emoticons        1888 non-null   int64  \n",
      " 17  is_discount         1888 non-null   int64  \n",
      " 18  is_price            1888 non-null   int64  \n",
      " 19  is_urgency          1888 non-null   int64  \n",
      " 20  target_audience     1888 non-null   int64  \n",
      " 21  click_rate          1888 non-null   float64\n",
      "dtypes: float64(1), int64(20), object(1)\n",
      "memory usage: 324.6+ KB\n"
     ]
    }
   ],
   "source": [
    "train.info()"
   ]
  },
  {
   "cell_type": "markdown",
   "id": "93be6a6d",
   "metadata": {},
   "source": [
    "__There is only one column with Object Dtype__"
   ]
  },
  {
   "cell_type": "markdown",
   "id": "7fa06699",
   "metadata": {},
   "source": [
    "__So Conveting that column into numeric Dtype using LabelEncoder__"
   ]
  },
  {
   "cell_type": "markdown",
   "id": "0260b9e9",
   "metadata": {},
   "source": [
    "# Label Encoding"
   ]
  },
  {
   "cell_type": "code",
   "execution_count": 33,
   "id": "79d59d5c",
   "metadata": {},
   "outputs": [],
   "source": [
    "le = LabelEncoder()\n",
    "train[\"times_of_day\"] = le.fit_transform(train[\"times_of_day\"])\n",
    "test[\"times_of_day\"] = le.fit_transform(test[\"times_of_day\"])"
   ]
  },
  {
   "cell_type": "code",
   "execution_count": 34,
   "id": "f24848fb",
   "metadata": {},
   "outputs": [
    {
     "data": {
      "text/html": [
       "<div>\n",
       "<style scoped>\n",
       "    .dataframe tbody tr th:only-of-type {\n",
       "        vertical-align: middle;\n",
       "    }\n",
       "\n",
       "    .dataframe tbody tr th {\n",
       "        vertical-align: top;\n",
       "    }\n",
       "\n",
       "    .dataframe thead th {\n",
       "        text-align: right;\n",
       "    }\n",
       "</style>\n",
       "<table border=\"1\" class=\"dataframe\">\n",
       "  <thead>\n",
       "    <tr style=\"text-align: right;\">\n",
       "      <th></th>\n",
       "      <th>campaign_id</th>\n",
       "      <th>sender</th>\n",
       "      <th>subject_len</th>\n",
       "      <th>body_len</th>\n",
       "      <th>mean_paragraph_len</th>\n",
       "      <th>day_of_week</th>\n",
       "      <th>is_weekend</th>\n",
       "      <th>times_of_day</th>\n",
       "      <th>category</th>\n",
       "      <th>product</th>\n",
       "      <th>...</th>\n",
       "      <th>is_image</th>\n",
       "      <th>is_personalised</th>\n",
       "      <th>is_quote</th>\n",
       "      <th>is_timer</th>\n",
       "      <th>is_emoticons</th>\n",
       "      <th>is_discount</th>\n",
       "      <th>is_price</th>\n",
       "      <th>is_urgency</th>\n",
       "      <th>target_audience</th>\n",
       "      <th>click_rate</th>\n",
       "    </tr>\n",
       "  </thead>\n",
       "  <tbody>\n",
       "    <tr>\n",
       "      <th>0</th>\n",
       "      <td>1</td>\n",
       "      <td>3</td>\n",
       "      <td>76</td>\n",
       "      <td>10439</td>\n",
       "      <td>39</td>\n",
       "      <td>5</td>\n",
       "      <td>1</td>\n",
       "      <td>2</td>\n",
       "      <td>6</td>\n",
       "      <td>26</td>\n",
       "      <td>...</td>\n",
       "      <td>0</td>\n",
       "      <td>0</td>\n",
       "      <td>0</td>\n",
       "      <td>0</td>\n",
       "      <td>0</td>\n",
       "      <td>0</td>\n",
       "      <td>0</td>\n",
       "      <td>0</td>\n",
       "      <td>14</td>\n",
       "      <td>0.103079</td>\n",
       "    </tr>\n",
       "    <tr>\n",
       "      <th>1</th>\n",
       "      <td>2</td>\n",
       "      <td>3</td>\n",
       "      <td>54</td>\n",
       "      <td>2570</td>\n",
       "      <td>256</td>\n",
       "      <td>5</td>\n",
       "      <td>1</td>\n",
       "      <td>1</td>\n",
       "      <td>2</td>\n",
       "      <td>11</td>\n",
       "      <td>...</td>\n",
       "      <td>0</td>\n",
       "      <td>0</td>\n",
       "      <td>0</td>\n",
       "      <td>0</td>\n",
       "      <td>0</td>\n",
       "      <td>0</td>\n",
       "      <td>0</td>\n",
       "      <td>0</td>\n",
       "      <td>10</td>\n",
       "      <td>0.700000</td>\n",
       "    </tr>\n",
       "    <tr>\n",
       "      <th>2</th>\n",
       "      <td>3</td>\n",
       "      <td>3</td>\n",
       "      <td>59</td>\n",
       "      <td>12801</td>\n",
       "      <td>16</td>\n",
       "      <td>5</td>\n",
       "      <td>1</td>\n",
       "      <td>2</td>\n",
       "      <td>2</td>\n",
       "      <td>11</td>\n",
       "      <td>...</td>\n",
       "      <td>1</td>\n",
       "      <td>0</td>\n",
       "      <td>1</td>\n",
       "      <td>0</td>\n",
       "      <td>0</td>\n",
       "      <td>0</td>\n",
       "      <td>0</td>\n",
       "      <td>0</td>\n",
       "      <td>16</td>\n",
       "      <td>0.002769</td>\n",
       "    </tr>\n",
       "    <tr>\n",
       "      <th>3</th>\n",
       "      <td>4</td>\n",
       "      <td>3</td>\n",
       "      <td>74</td>\n",
       "      <td>11037</td>\n",
       "      <td>30</td>\n",
       "      <td>4</td>\n",
       "      <td>0</td>\n",
       "      <td>0</td>\n",
       "      <td>15</td>\n",
       "      <td>9</td>\n",
       "      <td>...</td>\n",
       "      <td>0</td>\n",
       "      <td>0</td>\n",
       "      <td>0</td>\n",
       "      <td>0</td>\n",
       "      <td>0</td>\n",
       "      <td>0</td>\n",
       "      <td>0</td>\n",
       "      <td>0</td>\n",
       "      <td>10</td>\n",
       "      <td>0.010868</td>\n",
       "    </tr>\n",
       "    <tr>\n",
       "      <th>4</th>\n",
       "      <td>5</td>\n",
       "      <td>3</td>\n",
       "      <td>80</td>\n",
       "      <td>10011</td>\n",
       "      <td>27</td>\n",
       "      <td>5</td>\n",
       "      <td>1</td>\n",
       "      <td>2</td>\n",
       "      <td>6</td>\n",
       "      <td>26</td>\n",
       "      <td>...</td>\n",
       "      <td>0</td>\n",
       "      <td>0</td>\n",
       "      <td>1</td>\n",
       "      <td>0</td>\n",
       "      <td>0</td>\n",
       "      <td>0</td>\n",
       "      <td>0</td>\n",
       "      <td>0</td>\n",
       "      <td>14</td>\n",
       "      <td>0.142826</td>\n",
       "    </tr>\n",
       "  </tbody>\n",
       "</table>\n",
       "<p>5 rows × 22 columns</p>\n",
       "</div>"
      ],
      "text/plain": [
       "   campaign_id  sender  subject_len  body_len  mean_paragraph_len  \\\n",
       "0            1       3           76     10439                  39   \n",
       "1            2       3           54      2570                 256   \n",
       "2            3       3           59     12801                  16   \n",
       "3            4       3           74     11037                  30   \n",
       "4            5       3           80     10011                  27   \n",
       "\n",
       "   day_of_week  is_weekend  times_of_day  category  product  ...  is_image  \\\n",
       "0            5           1             2         6       26  ...         0   \n",
       "1            5           1             1         2       11  ...         0   \n",
       "2            5           1             2         2       11  ...         1   \n",
       "3            4           0             0        15        9  ...         0   \n",
       "4            5           1             2         6       26  ...         0   \n",
       "\n",
       "   is_personalised  is_quote  is_timer  is_emoticons  is_discount  is_price  \\\n",
       "0                0         0         0             0            0         0   \n",
       "1                0         0         0             0            0         0   \n",
       "2                0         1         0             0            0         0   \n",
       "3                0         0         0             0            0         0   \n",
       "4                0         1         0             0            0         0   \n",
       "\n",
       "   is_urgency  target_audience  click_rate  \n",
       "0           0               14    0.103079  \n",
       "1           0               10    0.700000  \n",
       "2           0               16    0.002769  \n",
       "3           0               10    0.010868  \n",
       "4           0               14    0.142826  \n",
       "\n",
       "[5 rows x 22 columns]"
      ]
     },
     "execution_count": 34,
     "metadata": {},
     "output_type": "execute_result"
    }
   ],
   "source": [
    "train.head()"
   ]
  },
  {
   "cell_type": "markdown",
   "id": "212e13c8",
   "metadata": {},
   "source": [
    "### Step 4: Splitting the data"
   ]
  },
  {
   "cell_type": "code",
   "execution_count": 363,
   "id": "0b65d04d",
   "metadata": {},
   "outputs": [],
   "source": [
    "# Initaialize the data\n",
    "X = train.iloc[:,1:21]\n",
    "y = train.iloc[:,-1]\n"
   ]
  },
  {
   "cell_type": "markdown",
   "id": "c30e2efb",
   "metadata": {},
   "source": [
    "## Train_test_split for Spliting the data"
   ]
  },
  {
   "cell_type": "code",
   "execution_count": 425,
   "id": "d444e146",
   "metadata": {},
   "outputs": [],
   "source": [
    "# 20% of the data is split into valid dataset\n",
    "X_train,X_valid,y_train,y_valid = train_test_split(X,y,test_size=0.2,random_state=22)"
   ]
  },
  {
   "cell_type": "markdown",
   "id": "93516695",
   "metadata": {},
   "source": [
    "### Step 5 : Choose the correct model"
   ]
  },
  {
   "cell_type": "markdown",
   "id": "31d61205",
   "metadata": {},
   "source": [
    "__ML Models__"
   ]
  },
  {
   "cell_type": "code",
   "execution_count": 369,
   "id": "079bcf0f",
   "metadata": {},
   "outputs": [],
   "source": [
    "from sklearn.ensemble import RandomForestRegressor\n",
    "from sklearn.tree import DecisionTreeRegressor\n",
    "from sklearn.neighbors import KNeighborsRegressor\n",
    "from sklearn.svm import SVR"
   ]
  },
  {
   "cell_type": "code",
   "execution_count": 370,
   "id": "02ba2a6d",
   "metadata": {},
   "outputs": [],
   "source": [
    "models = [LinearRegression(),  SVR(), RandomForestRegressor(),\n",
    "          KNeighborsRegressor(), DecisionTreeRegressor()]\n",
    "names = ['Linear Regression', 'SVR', 'RandomForestRegressor',\n",
    "         'K Neighbors Regressor', 'Decision Tree Regressor']\n",
    "model_list=[]"
   ]
  },
  {
   "cell_type": "code",
   "execution_count": 371,
   "id": "78b728a8",
   "metadata": {},
   "outputs": [],
   "source": [
    "for i in models:\n",
    "    model = i\n",
    "    model.fit(X_train,y_train)\n",
    "    y_pred = model.predict(X_valid)\n",
    "    model_list.append(metrics.r2_score(y_valid,y_pred))\n",
    "   "
   ]
  },
  {
   "cell_type": "code",
   "execution_count": 372,
   "id": "3a5dfba1",
   "metadata": {},
   "outputs": [
    {
     "data": {
      "text/html": [
       "<div>\n",
       "<style scoped>\n",
       "    .dataframe tbody tr th:only-of-type {\n",
       "        vertical-align: middle;\n",
       "    }\n",
       "\n",
       "    .dataframe tbody tr th {\n",
       "        vertical-align: top;\n",
       "    }\n",
       "\n",
       "    .dataframe thead th {\n",
       "        text-align: right;\n",
       "    }\n",
       "</style>\n",
       "<table border=\"1\" class=\"dataframe\">\n",
       "  <thead>\n",
       "    <tr style=\"text-align: right;\">\n",
       "      <th></th>\n",
       "      <th>Models</th>\n",
       "      <th>R2_score</th>\n",
       "    </tr>\n",
       "  </thead>\n",
       "  <tbody>\n",
       "    <tr>\n",
       "      <th>0</th>\n",
       "      <td>Linear Regression</td>\n",
       "      <td>0.122130</td>\n",
       "    </tr>\n",
       "    <tr>\n",
       "      <th>1</th>\n",
       "      <td>SVR</td>\n",
       "      <td>-0.452349</td>\n",
       "    </tr>\n",
       "    <tr>\n",
       "      <th>2</th>\n",
       "      <td>RandomForestRegressor</td>\n",
       "      <td>0.468862</td>\n",
       "    </tr>\n",
       "    <tr>\n",
       "      <th>3</th>\n",
       "      <td>K Neighbors Regressor</td>\n",
       "      <td>0.249348</td>\n",
       "    </tr>\n",
       "    <tr>\n",
       "      <th>4</th>\n",
       "      <td>Decision Tree Regressor</td>\n",
       "      <td>-0.059214</td>\n",
       "    </tr>\n",
       "  </tbody>\n",
       "</table>\n",
       "</div>"
      ],
      "text/plain": [
       "                    Models  R2_score\n",
       "0        Linear Regression  0.122130\n",
       "1                      SVR -0.452349\n",
       "2    RandomForestRegressor  0.468862\n",
       "3    K Neighbors Regressor  0.249348\n",
       "4  Decision Tree Regressor -0.059214"
      ]
     },
     "execution_count": 372,
     "metadata": {},
     "output_type": "execute_result"
    }
   ],
   "source": [
    "pd.DataFrame({\"Models\":names, \"R2_score\":model_list})"
   ]
  },
  {
   "cell_type": "markdown",
   "id": "4576445e",
   "metadata": {},
   "source": [
    "__From the above table we can clearly see the RandomForestRegressor is Performing well compared to Others models__"
   ]
  },
  {
   "cell_type": "markdown",
   "id": "ba322167",
   "metadata": {},
   "source": [
    "### Step 6: Building the Model\n"
   ]
  },
  {
   "cell_type": "markdown",
   "id": "3ac8de5b",
   "metadata": {},
   "source": [
    "# RandomForestRegressor"
   ]
  },
  {
   "cell_type": "code",
   "execution_count": 426,
   "id": "5feadec7",
   "metadata": {},
   "outputs": [
    {
     "data": {
      "text/plain": [
       "array([0.01144664, 0.0621672 , 0.09062198, 0.03208593, 0.06402895,\n",
       "       0.09783904, 0.04875227, 0.02563383, 0.01011839, 0.01363037])"
      ]
     },
     "execution_count": 426,
     "metadata": {},
     "output_type": "execute_result"
    }
   ],
   "source": [
    "#RandomForestRegressor\n",
    "reg = RandomForestRegressor(random_state=42)\n",
    "reg.fit(X_train,y_train)\n",
    "y_pred = reg.predict(X_valid)\n",
    "y_pred[:10]"
   ]
  },
  {
   "cell_type": "code",
   "execution_count": 427,
   "id": "f40fb492",
   "metadata": {},
   "outputs": [
    {
     "data": {
      "text/plain": [
       "array([0.00331748, 0.05      , 0.01044725, 0.03008299, 0.0306982 ,\n",
       "       0.12714509, 0.05253623, 0.01784636, 0.00793437, 0.02240041])"
      ]
     },
     "execution_count": 427,
     "metadata": {},
     "output_type": "execute_result"
    }
   ],
   "source": [
    "np.array(y_valid[:10])"
   ]
  },
  {
   "cell_type": "markdown",
   "id": "6482d0c3",
   "metadata": {},
   "source": [
    "### Step 7: Predicting Model\n"
   ]
  },
  {
   "cell_type": "code",
   "execution_count": 428,
   "id": "c8b07f49",
   "metadata": {},
   "outputs": [
    {
     "data": {
      "text/plain": [
       "0.47624591608375455"
      ]
     },
     "execution_count": 428,
     "metadata": {},
     "output_type": "execute_result"
    }
   ],
   "source": [
    "# Predicting through R2_Score\n",
    "metrics.r2_score(y_valid,y_pred)"
   ]
  },
  {
   "cell_type": "markdown",
   "id": "f5840711",
   "metadata": {},
   "source": [
    "### Step 8: Improving the performance of model"
   ]
  },
  {
   "cell_type": "code",
   "execution_count": 429,
   "id": "a1e4b141",
   "metadata": {},
   "outputs": [
    {
     "data": {
      "text/plain": [
       "array([5.92466375e-03, 8.56185348e-02, 2.87195614e-01, 1.24680201e-01,\n",
       "       3.84687279e-02, 1.09586907e-02, 1.66790395e-02, 4.78021726e-02,\n",
       "       5.93372072e-02, 1.09363764e-01, 1.25788033e-01, 2.51175888e-02,\n",
       "       3.40739096e-03, 2.65398833e-02, 0.00000000e+00, 2.00184772e-03,\n",
       "       2.96552218e-05, 3.03506843e-06, 1.10480317e-03, 2.99791468e-02])"
      ]
     },
     "execution_count": 429,
     "metadata": {},
     "output_type": "execute_result"
    }
   ],
   "source": [
    "reg.feature_importances_"
   ]
  },
  {
   "cell_type": "code",
   "execution_count": 430,
   "id": "aee99bc4",
   "metadata": {},
   "outputs": [
    {
     "data": {
      "text/html": [
       "<div>\n",
       "<style scoped>\n",
       "    .dataframe tbody tr th:only-of-type {\n",
       "        vertical-align: middle;\n",
       "    }\n",
       "\n",
       "    .dataframe tbody tr th {\n",
       "        vertical-align: top;\n",
       "    }\n",
       "\n",
       "    .dataframe thead th {\n",
       "        text-align: right;\n",
       "    }\n",
       "</style>\n",
       "<table border=\"1\" class=\"dataframe\">\n",
       "  <thead>\n",
       "    <tr style=\"text-align: right;\">\n",
       "      <th></th>\n",
       "      <th>Columns_names</th>\n",
       "      <th>Coefficients</th>\n",
       "    </tr>\n",
       "  </thead>\n",
       "  <tbody>\n",
       "    <tr>\n",
       "      <th>2</th>\n",
       "      <td>body_len</td>\n",
       "      <td>0.287196</td>\n",
       "    </tr>\n",
       "    <tr>\n",
       "      <th>10</th>\n",
       "      <td>mean_CTA_len</td>\n",
       "      <td>0.125788</td>\n",
       "    </tr>\n",
       "    <tr>\n",
       "      <th>3</th>\n",
       "      <td>mean_paragraph_len</td>\n",
       "      <td>0.124680</td>\n",
       "    </tr>\n",
       "    <tr>\n",
       "      <th>9</th>\n",
       "      <td>no_of_CTA</td>\n",
       "      <td>0.109364</td>\n",
       "    </tr>\n",
       "    <tr>\n",
       "      <th>1</th>\n",
       "      <td>subject_len</td>\n",
       "      <td>0.085619</td>\n",
       "    </tr>\n",
       "    <tr>\n",
       "      <th>8</th>\n",
       "      <td>product</td>\n",
       "      <td>0.059337</td>\n",
       "    </tr>\n",
       "    <tr>\n",
       "      <th>7</th>\n",
       "      <td>category</td>\n",
       "      <td>0.047802</td>\n",
       "    </tr>\n",
       "    <tr>\n",
       "      <th>4</th>\n",
       "      <td>day_of_week</td>\n",
       "      <td>0.038469</td>\n",
       "    </tr>\n",
       "    <tr>\n",
       "      <th>19</th>\n",
       "      <td>target_audience</td>\n",
       "      <td>0.029979</td>\n",
       "    </tr>\n",
       "    <tr>\n",
       "      <th>13</th>\n",
       "      <td>is_quote</td>\n",
       "      <td>0.026540</td>\n",
       "    </tr>\n",
       "    <tr>\n",
       "      <th>11</th>\n",
       "      <td>is_image</td>\n",
       "      <td>0.025118</td>\n",
       "    </tr>\n",
       "    <tr>\n",
       "      <th>6</th>\n",
       "      <td>times_of_day</td>\n",
       "      <td>0.016679</td>\n",
       "    </tr>\n",
       "    <tr>\n",
       "      <th>5</th>\n",
       "      <td>is_weekend</td>\n",
       "      <td>0.010959</td>\n",
       "    </tr>\n",
       "    <tr>\n",
       "      <th>0</th>\n",
       "      <td>sender</td>\n",
       "      <td>0.005925</td>\n",
       "    </tr>\n",
       "    <tr>\n",
       "      <th>12</th>\n",
       "      <td>is_personalised</td>\n",
       "      <td>0.003407</td>\n",
       "    </tr>\n",
       "    <tr>\n",
       "      <th>15</th>\n",
       "      <td>is_emoticons</td>\n",
       "      <td>0.002002</td>\n",
       "    </tr>\n",
       "    <tr>\n",
       "      <th>18</th>\n",
       "      <td>is_urgency</td>\n",
       "      <td>0.001105</td>\n",
       "    </tr>\n",
       "    <tr>\n",
       "      <th>16</th>\n",
       "      <td>is_discount</td>\n",
       "      <td>0.000030</td>\n",
       "    </tr>\n",
       "    <tr>\n",
       "      <th>17</th>\n",
       "      <td>is_price</td>\n",
       "      <td>0.000003</td>\n",
       "    </tr>\n",
       "    <tr>\n",
       "      <th>14</th>\n",
       "      <td>is_timer</td>\n",
       "      <td>0.000000</td>\n",
       "    </tr>\n",
       "  </tbody>\n",
       "</table>\n",
       "</div>"
      ],
      "text/plain": [
       "         Columns_names  Coefficients\n",
       "2             body_len      0.287196\n",
       "10        mean_CTA_len      0.125788\n",
       "3   mean_paragraph_len      0.124680\n",
       "9            no_of_CTA      0.109364\n",
       "1          subject_len      0.085619\n",
       "8              product      0.059337\n",
       "7             category      0.047802\n",
       "4          day_of_week      0.038469\n",
       "19     target_audience      0.029979\n",
       "13            is_quote      0.026540\n",
       "11            is_image      0.025118\n",
       "6         times_of_day      0.016679\n",
       "5           is_weekend      0.010959\n",
       "0               sender      0.005925\n",
       "12     is_personalised      0.003407\n",
       "15        is_emoticons      0.002002\n",
       "18          is_urgency      0.001105\n",
       "16         is_discount      0.000030\n",
       "17            is_price      0.000003\n",
       "14            is_timer      0.000000"
      ]
     },
     "execution_count": 430,
     "metadata": {},
     "output_type": "execute_result"
    }
   ],
   "source": [
    "coef = pd.DataFrame(reg.feature_importances_,columns=[\"Coefficients\"])\n",
    "Col = pd.DataFrame(X.columns,columns=[\"Columns_names\"])\n",
    "Res = pd.concat([Col,coef],axis=1)\n",
    "Res = Res.sort_values(\"Coefficients\",ascending=False)\n",
    "Res"
   ]
  },
  {
   "cell_type": "code",
   "execution_count": 431,
   "id": "6e8a4547",
   "metadata": {},
   "outputs": [
    {
     "data": {
      "text/plain": [
       "<AxesSubplot:xlabel='Columns_names', ylabel='Coefficients'>"
      ]
     },
     "execution_count": 431,
     "metadata": {},
     "output_type": "execute_result"
    },
    {
     "data": {
      "image/png": "[encoded data removed]",
      "text/plain": [
       "<Figure size 3600x1440 with 1 Axes>"
      ]
     },
     "metadata": {
      "needs_background": "light"
     },
     "output_type": "display_data"
    }
   ],
   "source": [
    "plt.figure(figsize=(50,20))\n",
    "sns.barplot(Res[\"Columns_names\"],Res[\"Coefficients\"])"
   ]
  },
  {
   "cell_type": "markdown",
   "id": "8e4d50d9",
   "metadata": {},
   "source": [
    "__Taking the imporatnt features into Consideartion to improve the performance of the model__"
   ]
  },
  {
   "cell_type": "code",
   "execution_count": 432,
   "id": "75af60e8",
   "metadata": {},
   "outputs": [
    {
     "data": {
      "text/plain": [
       "array(['body_len', 'mean_CTA_len', 'mean_paragraph_len', 'no_of_CTA',\n",
       "       'subject_len', 'product', 'category'], dtype=object)"
      ]
     },
     "execution_count": 432,
     "metadata": {},
     "output_type": "execute_result"
    }
   ],
   "source": [
    "Important_features = Res[\"Columns_names\"].values[:7]\n",
    "Important_features"
   ]
  },
  {
   "cell_type": "markdown",
   "id": "97786d50",
   "metadata": {},
   "source": [
    "__The 7 Most Imporatant Features are 'body_len', 'mean_CTA_len', 'mean_paragraph_len', 'no_of_CTA',\n",
    "       'subject_len', 'product', 'category'__"
   ]
  },
  {
   "cell_type": "code",
   "execution_count": 433,
   "id": "1f529ddc",
   "metadata": {},
   "outputs": [],
   "source": [
    "# Taking the Important_features\n",
    "X_train = X_train[Important_features]\n",
    "X_valid  = X_valid[Important_features]\n",
    "test = test[Important_features]"
   ]
  },
  {
   "cell_type": "markdown",
   "id": "e92ad549",
   "metadata": {},
   "source": [
    "__Again Predict the data with Important_features__"
   ]
  },
  {
   "cell_type": "code",
   "execution_count": 434,
   "id": "5a437e0a",
   "metadata": {},
   "outputs": [
    {
     "data": {
      "text/plain": [
       "array([0.01425508, 0.0881972 , 0.10446022, 0.04337247, 0.05366772,\n",
       "       0.09037012, 0.03148388, 0.02490928, 0.00643242, 0.0139697 ])"
      ]
     },
     "execution_count": 434,
     "metadata": {},
     "output_type": "execute_result"
    }
   ],
   "source": [
    "reg.fit(X_train,y_train)\n",
    "y_pred = reg.predict(X_valid)\n",
    "y_pred[:10]"
   ]
  },
  {
   "cell_type": "code",
   "execution_count": 435,
   "id": "d9de2fe5",
   "metadata": {},
   "outputs": [
    {
     "data": {
      "text/plain": [
       "array([0.00331748, 0.05      , 0.01044725, 0.03008299, 0.0306982 ,\n",
       "       0.12714509, 0.05253623, 0.01784636, 0.00793437, 0.02240041])"
      ]
     },
     "execution_count": 435,
     "metadata": {},
     "output_type": "execute_result"
    }
   ],
   "source": [
    "np.array(y_valid[:10])"
   ]
  },
  {
   "cell_type": "code",
   "execution_count": 436,
   "id": "27b813ef",
   "metadata": {},
   "outputs": [
    {
     "data": {
      "text/plain": [
       "0.5366821186614554"
      ]
     },
     "execution_count": 436,
     "metadata": {},
     "output_type": "execute_result"
    }
   ],
   "source": [
    "# Predicting through R2_Score\n",
    "metrics.r2_score(y_valid,y_pred)"
   ]
  },
  {
   "cell_type": "markdown",
   "id": "dcc632c2",
   "metadata": {},
   "source": [
    "### Step 9: Submission"
   ]
  },
  {
   "cell_type": "code",
   "execution_count": 380,
   "id": "2389ad38",
   "metadata": {},
   "outputs": [],
   "source": [
    "submission = pd.read_csv('sample_submission_LJ2N3ZQ.csv')\n",
    "reg.fit(X_train, y_train)\n",
    "final_predictions = reg.predict(test)\n",
    "submission['click_rate'] = final_predictions\n",
    "#only positive predictions for the target variable\n",
    "submission['click_rate'] = submission['click_rate'].apply(lambda x: 0 if x<0 else x)\n",
    "submission.to_csv('my_submission.csv', index=False)"
   ]
  },
  {
   "cell_type": "markdown",
   "id": "7bb01ecc",
   "metadata": {},
   "source": [
    "#                   Thank You"
   ]
  }
 ],
 "metadata": {
  "kernelspec": {
   "display_name": "Python 3 (ipykernel)",
   "language": "python",
   "name": "python3"
  },
  "language_info": {
   "codemirror_mode": {
    "name": "ipython",
    "version": 3
   },
   "file_extension": ".py",
   "mimetype": "text/x-python",
   "name": "python",
   "nbconvert_exporter": "python",
   "pygments_lexer": "ipython3",
   "version": "3.9.7"
  }
 },
 "nbformat": 4,
 "nbformat_minor": 5
}
