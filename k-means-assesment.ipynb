{
 "cells": [
  {
   "cell_type": "code",
   "execution_count": 1,
   "id": "33ca1a0d",
   "metadata": {},
   "outputs": [],
   "source": [
    "import pandas as pd\n",
    "import numpy as np\n",
    "import matplotlib.pyplot as plt\n",
    "import seaborn as sns"
   ]
  },
  {
   "cell_type": "code",
   "execution_count": 4,
   "id": "6855e739",
   "metadata": {},
   "outputs": [
    {
     "data": {
      "text/html": [
       "<div>\n",
       "<style scoped>\n",
       "    .dataframe tbody tr th:only-of-type {\n",
       "        vertical-align: middle;\n",
       "    }\n",
       "\n",
       "    .dataframe tbody tr th {\n",
       "        vertical-align: top;\n",
       "    }\n",
       "\n",
       "    .dataframe thead th {\n",
       "        text-align: right;\n",
       "    }\n",
       "</style>\n",
       "<table border=\"1\" class=\"dataframe\">\n",
       "  <thead>\n",
       "    <tr style=\"text-align: right;\">\n",
       "      <th></th>\n",
       "      <th>Sepal Length</th>\n",
       "      <th>Sepal Width</th>\n",
       "      <th>Petal Length</th>\n",
       "      <th>Petal Width</th>\n",
       "      <th>Species</th>\n",
       "    </tr>\n",
       "  </thead>\n",
       "  <tbody>\n",
       "    <tr>\n",
       "      <th>0</th>\n",
       "      <td>5.1</td>\n",
       "      <td>3.5</td>\n",
       "      <td>1.4</td>\n",
       "      <td>0.2</td>\n",
       "      <td>Iris-setosa</td>\n",
       "    </tr>\n",
       "    <tr>\n",
       "      <th>1</th>\n",
       "      <td>4.9</td>\n",
       "      <td>3.0</td>\n",
       "      <td>1.4</td>\n",
       "      <td>0.2</td>\n",
       "      <td>Iris-setosa</td>\n",
       "    </tr>\n",
       "    <tr>\n",
       "      <th>2</th>\n",
       "      <td>4.7</td>\n",
       "      <td>3.2</td>\n",
       "      <td>1.3</td>\n",
       "      <td>0.2</td>\n",
       "      <td>Iris-setosa</td>\n",
       "    </tr>\n",
       "    <tr>\n",
       "      <th>3</th>\n",
       "      <td>4.6</td>\n",
       "      <td>3.1</td>\n",
       "      <td>1.5</td>\n",
       "      <td>0.2</td>\n",
       "      <td>Iris-setosa</td>\n",
       "    </tr>\n",
       "    <tr>\n",
       "      <th>4</th>\n",
       "      <td>5.0</td>\n",
       "      <td>3.6</td>\n",
       "      <td>1.4</td>\n",
       "      <td>0.2</td>\n",
       "      <td>Iris-setosa</td>\n",
       "    </tr>\n",
       "  </tbody>\n",
       "</table>\n",
       "</div>"
      ],
      "text/plain": [
       "   Sepal Length  Sepal Width  Petal Length  Petal Width      Species\n",
       "0           5.1          3.5           1.4          0.2  Iris-setosa\n",
       "1           4.9          3.0           1.4          0.2  Iris-setosa\n",
       "2           4.7          3.2           1.3          0.2  Iris-setosa\n",
       "3           4.6          3.1           1.5          0.2  Iris-setosa\n",
       "4           5.0          3.6           1.4          0.2  Iris-setosa"
      ]
     },
     "execution_count": 4,
     "metadata": {},
     "output_type": "execute_result"
    }
   ],
   "source": [
    "Iris = pd.read_csv(\"C:/Users/HP/OneDrive/Desktop/DataAnalysisFiles/Datasets/iris.csv\")\n",
    "Iris.head()"
   ]
  },
  {
   "cell_type": "code",
   "execution_count": 5,
   "id": "3e82920d",
   "metadata": {},
   "outputs": [
    {
     "data": {
      "text/plain": [
       "Sepal Length    0\n",
       "Sepal Width     0\n",
       "Petal Length    0\n",
       "Petal Width     0\n",
       "Species         0\n",
       "dtype: int64"
      ]
     },
     "execution_count": 5,
     "metadata": {},
     "output_type": "execute_result"
    }
   ],
   "source": [
    "Iris.isnull().sum()"
   ]
  },
  {
   "cell_type": "markdown",
   "id": "07760e3d",
   "metadata": {},
   "source": [
    "# K-Means with Sepal length Width"
   ]
  },
  {
   "cell_type": "code",
   "execution_count": 108,
   "id": "416e6445",
   "metadata": {},
   "outputs": [
    {
     "data": {
      "text/html": [
       "<div>\n",
       "<style scoped>\n",
       "    .dataframe tbody tr th:only-of-type {\n",
       "        vertical-align: middle;\n",
       "    }\n",
       "\n",
       "    .dataframe tbody tr th {\n",
       "        vertical-align: top;\n",
       "    }\n",
       "\n",
       "    .dataframe thead th {\n",
       "        text-align: right;\n",
       "    }\n",
       "</style>\n",
       "<table border=\"1\" class=\"dataframe\">\n",
       "  <thead>\n",
       "    <tr style=\"text-align: right;\">\n",
       "      <th></th>\n",
       "      <th>Sepal Length</th>\n",
       "      <th>Sepal Width</th>\n",
       "    </tr>\n",
       "  </thead>\n",
       "  <tbody>\n",
       "    <tr>\n",
       "      <th>0</th>\n",
       "      <td>5.1</td>\n",
       "      <td>3.5</td>\n",
       "    </tr>\n",
       "    <tr>\n",
       "      <th>1</th>\n",
       "      <td>4.9</td>\n",
       "      <td>3.0</td>\n",
       "    </tr>\n",
       "    <tr>\n",
       "      <th>2</th>\n",
       "      <td>4.7</td>\n",
       "      <td>3.2</td>\n",
       "    </tr>\n",
       "    <tr>\n",
       "      <th>3</th>\n",
       "      <td>4.6</td>\n",
       "      <td>3.1</td>\n",
       "    </tr>\n",
       "    <tr>\n",
       "      <th>4</th>\n",
       "      <td>5.0</td>\n",
       "      <td>3.6</td>\n",
       "    </tr>\n",
       "    <tr>\n",
       "      <th>...</th>\n",
       "      <td>...</td>\n",
       "      <td>...</td>\n",
       "    </tr>\n",
       "    <tr>\n",
       "      <th>145</th>\n",
       "      <td>6.7</td>\n",
       "      <td>3.0</td>\n",
       "    </tr>\n",
       "    <tr>\n",
       "      <th>146</th>\n",
       "      <td>6.3</td>\n",
       "      <td>2.5</td>\n",
       "    </tr>\n",
       "    <tr>\n",
       "      <th>147</th>\n",
       "      <td>6.5</td>\n",
       "      <td>3.0</td>\n",
       "    </tr>\n",
       "    <tr>\n",
       "      <th>148</th>\n",
       "      <td>6.2</td>\n",
       "      <td>3.4</td>\n",
       "    </tr>\n",
       "    <tr>\n",
       "      <th>149</th>\n",
       "      <td>5.9</td>\n",
       "      <td>3.0</td>\n",
       "    </tr>\n",
       "  </tbody>\n",
       "</table>\n",
       "<p>150 rows × 2 columns</p>\n",
       "</div>"
      ],
      "text/plain": [
       "     Sepal Length  Sepal Width\n",
       "0             5.1          3.5\n",
       "1             4.9          3.0\n",
       "2             4.7          3.2\n",
       "3             4.6          3.1\n",
       "4             5.0          3.6\n",
       "..            ...          ...\n",
       "145           6.7          3.0\n",
       "146           6.3          2.5\n",
       "147           6.5          3.0\n",
       "148           6.2          3.4\n",
       "149           5.9          3.0\n",
       "\n",
       "[150 rows x 2 columns]"
      ]
     },
     "execution_count": 108,
     "metadata": {},
     "output_type": "execute_result"
    }
   ],
   "source": [
    "X = Iris.iloc[:,[0,1]]\n",
    "X"
   ]
  },
  {
   "cell_type": "code",
   "execution_count": 109,
   "id": "238935db",
   "metadata": {},
   "outputs": [
    {
     "data": {
      "text/plain": [
       "Text(0, 0.5, 'Sepal Width')"
      ]
     },
     "execution_count": 109,
     "metadata": {},
     "output_type": "execute_result"
    },
    {
     "data": {
      "image/png": "[encoded data removed]",
      "text/plain": [
       "<Figure size 720x432 with 1 Axes>"
      ]
     },
     "metadata": {
      "needs_background": "light"
     },
     "output_type": "display_data"
    }
   ],
   "source": [
    "plt.figure(figsize=(10,6))\n",
    "plt.scatter(Iris[\"Sepal Length\"], Iris[\"Sepal Width\"])\n",
    "plt.xlabel(\"Sepal Length\")\n",
    "plt.ylabel(\"Sepal Width\")"
   ]
  },
  {
   "cell_type": "markdown",
   "id": "8e99f9a2",
   "metadata": {},
   "source": [
    "# Standardization"
   ]
  },
  {
   "cell_type": "code",
   "execution_count": 110,
   "id": "28fdd433",
   "metadata": {},
   "outputs": [],
   "source": [
    "from sklearn.preprocessing import MinMaxScaler,StandardScaler\n",
    "scaler = StandardScaler()\n",
    "norm = MinMaxScaler()"
   ]
  },
  {
   "cell_type": "code",
   "execution_count": 111,
   "id": "c6f08ad7",
   "metadata": {},
   "outputs": [
    {
     "data": {
      "text/plain": [
       "array([[-0.90068117,  1.03205722],\n",
       "       [-1.14301691, -0.1249576 ],\n",
       "       [-1.38535265,  0.33784833],\n",
       "       [-1.50652052,  0.10644536],\n",
       "       [-1.02184904,  1.26346019],\n",
       "       [-0.53717756,  1.95766909],\n",
       "       [-1.50652052,  0.80065426],\n",
       "       [-1.02184904,  0.80065426],\n",
       "       [-1.74885626, -0.35636057],\n",
       "       [-1.14301691,  0.10644536],\n",
       "       [-0.53717756,  1.49486315],\n",
       "       [-1.26418478,  0.80065426],\n",
       "       [-1.26418478, -0.1249576 ],\n",
       "       [-1.87002413, -0.1249576 ],\n",
       "       [-0.05250608,  2.18907205],\n",
       "       [-0.17367395,  3.11468391],\n",
       "       [-0.53717756,  1.95766909],\n",
       "       [-0.90068117,  1.03205722],\n",
       "       [-0.17367395,  1.72626612],\n",
       "       [-0.90068117,  1.72626612],\n",
       "       [-0.53717756,  0.80065426],\n",
       "       [-0.90068117,  1.49486315],\n",
       "       [-1.50652052,  1.26346019],\n",
       "       [-0.90068117,  0.56925129],\n",
       "       [-1.26418478,  0.80065426],\n",
       "       [-1.02184904, -0.1249576 ],\n",
       "       [-1.02184904,  0.80065426],\n",
       "       [-0.7795133 ,  1.03205722],\n",
       "       [-0.7795133 ,  0.80065426],\n",
       "       [-1.38535265,  0.33784833],\n",
       "       [-1.26418478,  0.10644536],\n",
       "       [-0.53717756,  0.80065426],\n",
       "       [-0.7795133 ,  2.42047502],\n",
       "       [-0.41600969,  2.65187798],\n",
       "       [-1.14301691,  0.10644536],\n",
       "       [-1.02184904,  0.33784833],\n",
       "       [-0.41600969,  1.03205722],\n",
       "       [-1.14301691,  0.10644536],\n",
       "       [-1.74885626, -0.1249576 ],\n",
       "       [-0.90068117,  0.80065426],\n",
       "       [-1.02184904,  1.03205722],\n",
       "       [-1.62768839, -1.74477836],\n",
       "       [-1.74885626,  0.33784833],\n",
       "       [-1.02184904,  1.03205722],\n",
       "       [-0.90068117,  1.72626612],\n",
       "       [-1.26418478, -0.1249576 ],\n",
       "       [-0.90068117,  1.72626612],\n",
       "       [-1.50652052,  0.33784833],\n",
       "       [-0.65834543,  1.49486315],\n",
       "       [-1.02184904,  0.56925129],\n",
       "       [ 1.40150837,  0.33784833],\n",
       "       [ 0.67450115,  0.33784833],\n",
       "       [ 1.2803405 ,  0.10644536],\n",
       "       [-0.41600969, -1.74477836],\n",
       "       [ 0.79566902, -0.58776353],\n",
       "       [-0.17367395, -0.58776353],\n",
       "       [ 0.55333328,  0.56925129],\n",
       "       [-1.14301691, -1.51337539],\n",
       "       [ 0.91683689, -0.35636057],\n",
       "       [-0.7795133 , -0.8191665 ],\n",
       "       [-1.02184904, -2.43898725],\n",
       "       [ 0.06866179, -0.1249576 ],\n",
       "       [ 0.18982966, -1.97618132],\n",
       "       [ 0.31099753, -0.35636057],\n",
       "       [-0.29484182, -0.35636057],\n",
       "       [ 1.03800476,  0.10644536],\n",
       "       [-0.29484182, -0.1249576 ],\n",
       "       [-0.05250608, -0.8191665 ],\n",
       "       [ 0.4321654 , -1.97618132],\n",
       "       [-0.29484182, -1.28197243],\n",
       "       [ 0.06866179,  0.33784833],\n",
       "       [ 0.31099753, -0.58776353],\n",
       "       [ 0.55333328, -1.28197243],\n",
       "       [ 0.31099753, -0.58776353],\n",
       "       [ 0.67450115, -0.35636057],\n",
       "       [ 0.91683689, -0.1249576 ],\n",
       "       [ 1.15917263, -0.58776353],\n",
       "       [ 1.03800476, -0.1249576 ],\n",
       "       [ 0.18982966, -0.35636057],\n",
       "       [-0.17367395, -1.05056946],\n",
       "       [-0.41600969, -1.51337539],\n",
       "       [-0.41600969, -1.51337539],\n",
       "       [-0.05250608, -0.8191665 ],\n",
       "       [ 0.18982966, -0.8191665 ],\n",
       "       [-0.53717756, -0.1249576 ],\n",
       "       [ 0.18982966,  0.80065426],\n",
       "       [ 1.03800476,  0.10644536],\n",
       "       [ 0.55333328, -1.74477836],\n",
       "       [-0.29484182, -0.1249576 ],\n",
       "       [-0.41600969, -1.28197243],\n",
       "       [-0.41600969, -1.05056946],\n",
       "       [ 0.31099753, -0.1249576 ],\n",
       "       [-0.05250608, -1.05056946],\n",
       "       [-1.02184904, -1.74477836],\n",
       "       [-0.29484182, -0.8191665 ],\n",
       "       [-0.17367395, -0.1249576 ],\n",
       "       [-0.17367395, -0.35636057],\n",
       "       [ 0.4321654 , -0.35636057],\n",
       "       [-0.90068117, -1.28197243],\n",
       "       [-0.17367395, -0.58776353],\n",
       "       [ 0.55333328,  0.56925129],\n",
       "       [-0.05250608, -0.8191665 ],\n",
       "       [ 1.52267624, -0.1249576 ],\n",
       "       [ 0.55333328, -0.35636057],\n",
       "       [ 0.79566902, -0.1249576 ],\n",
       "       [ 2.12851559, -0.1249576 ],\n",
       "       [-1.14301691, -1.28197243],\n",
       "       [ 1.76501198, -0.35636057],\n",
       "       [ 1.03800476, -1.28197243],\n",
       "       [ 1.64384411,  1.26346019],\n",
       "       [ 0.79566902,  0.33784833],\n",
       "       [ 0.67450115, -0.8191665 ],\n",
       "       [ 1.15917263, -0.1249576 ],\n",
       "       [-0.17367395, -1.28197243],\n",
       "       [-0.05250608, -0.58776353],\n",
       "       [ 0.67450115,  0.33784833],\n",
       "       [ 0.79566902, -0.1249576 ],\n",
       "       [ 2.24968346,  1.72626612],\n",
       "       [ 2.24968346, -1.05056946],\n",
       "       [ 0.18982966, -1.97618132],\n",
       "       [ 1.2803405 ,  0.33784833],\n",
       "       [-0.29484182, -0.58776353],\n",
       "       [ 2.24968346, -0.58776353],\n",
       "       [ 0.55333328, -0.8191665 ],\n",
       "       [ 1.03800476,  0.56925129],\n",
       "       [ 1.64384411,  0.33784833],\n",
       "       [ 0.4321654 , -0.58776353],\n",
       "       [ 0.31099753, -0.1249576 ],\n",
       "       [ 0.67450115, -0.58776353],\n",
       "       [ 1.64384411, -0.1249576 ],\n",
       "       [ 1.88617985, -0.58776353],\n",
       "       [ 2.4920192 ,  1.72626612],\n",
       "       [ 0.67450115, -0.58776353],\n",
       "       [ 0.55333328, -0.58776353],\n",
       "       [ 0.31099753, -1.05056946],\n",
       "       [ 2.24968346, -0.1249576 ],\n",
       "       [ 0.55333328,  0.80065426],\n",
       "       [ 0.67450115,  0.10644536],\n",
       "       [ 0.18982966, -0.1249576 ],\n",
       "       [ 1.2803405 ,  0.10644536],\n",
       "       [ 1.03800476,  0.10644536],\n",
       "       [ 1.2803405 ,  0.10644536],\n",
       "       [-0.05250608, -0.8191665 ],\n",
       "       [ 1.15917263,  0.33784833],\n",
       "       [ 1.03800476,  0.56925129],\n",
       "       [ 1.03800476, -0.1249576 ],\n",
       "       [ 0.55333328, -1.28197243],\n",
       "       [ 0.79566902, -0.1249576 ],\n",
       "       [ 0.4321654 ,  0.80065426],\n",
       "       [ 0.06866179, -0.1249576 ]])"
      ]
     },
     "execution_count": 111,
     "metadata": {},
     "output_type": "execute_result"
    }
   ],
   "source": [
    "#Standardization\n",
    "X = scaler.fit_transform(X)\n",
    "X"
   ]
  },
  {
   "cell_type": "markdown",
   "id": "145a5d0c",
   "metadata": {},
   "source": [
    "# Inertia"
   ]
  },
  {
   "cell_type": "markdown",
   "id": "e173b060",
   "metadata": {},
   "source": [
    "# Using Elbow Method"
   ]
  },
  {
   "cell_type": "code",
   "execution_count": 112,
   "id": "06a857d8",
   "metadata": {},
   "outputs": [
    {
     "name": "stderr",
     "output_type": "stream",
     "text": [
      "C:\\Users\\HP\\anaconda3\\lib\\site-packages\\sklearn\\cluster\\_kmeans.py:881: UserWarning: KMeans is known to have a memory leak on Windows with MKL, when there are less chunks than available threads. You can avoid it by setting the environment variable OMP_NUM_THREADS=1.\n",
      "  warnings.warn(\n"
     ]
    }
   ],
   "source": [
    "from sklearn.cluster import KMeans\n",
    "wcss= []\n",
    "for i in range(1,11):\n",
    "    kmeans = KMeans(n_clusters=i, random_state=42)\n",
    "    kmeans.fit(X)\n",
    "    wcss.append(kmeans.inertia_)\n"
   ]
  },
  {
   "cell_type": "code",
   "execution_count": 113,
   "id": "9034f339",
   "metadata": {},
   "outputs": [
    {
     "data": {
      "image/png": "[encoded data removed]",
      "text/plain": [
       "<Figure size 720x432 with 1 Axes>"
      ]
     },
     "metadata": {
      "needs_background": "light"
     },
     "output_type": "display_data"
    }
   ],
   "source": [
    "plt.figure(figsize=(10,6))\n",
    "plt.plot(range(1,11), wcss, marker='o')\n",
    "plt.title(\"Elboe-Method\")\n",
    "plt.xlabel(\"No of Clusters\")\n",
    "plt.ylabel(\"Inertia\")\n",
    "plt.show()"
   ]
  },
  {
   "cell_type": "markdown",
   "id": "72427532",
   "metadata": {},
   "source": [
    "# From the Elbow method takinh k=3"
   ]
  },
  {
   "cell_type": "code",
   "execution_count": 114,
   "id": "6ce8feef",
   "metadata": {},
   "outputs": [
    {
     "data": {
      "text/plain": [
       "array([2, 2, 2, 2, 2, 2, 2, 2, 2, 2, 2, 2, 2, 2, 2, 2, 2, 2, 2, 2, 2, 2,\n",
       "       2, 2, 2, 2, 2, 2, 2, 2, 2, 2, 2, 2, 2, 2, 2, 2, 2, 2, 2, 1, 2, 2,\n",
       "       2, 2, 2, 2, 2, 2, 0, 0, 0, 1, 0, 1, 0, 1, 0, 1, 1, 1, 1, 1, 1, 0,\n",
       "       1, 1, 1, 1, 0, 1, 1, 1, 0, 0, 0, 0, 1, 1, 1, 1, 1, 1, 1, 0, 0, 1,\n",
       "       1, 1, 1, 0, 1, 1, 1, 1, 1, 0, 1, 1, 0, 1, 0, 0, 0, 0, 1, 0, 1, 0,\n",
       "       0, 1, 0, 1, 1, 0, 0, 0, 0, 1, 0, 1, 0, 1, 0, 0, 1, 0, 0, 0, 0, 0,\n",
       "       0, 1, 1, 0, 0, 0, 1, 0, 0, 0, 1, 0, 0, 0, 1, 0, 0, 1])"
      ]
     },
     "execution_count": 114,
     "metadata": {},
     "output_type": "execute_result"
    }
   ],
   "source": [
    "kmeans = KMeans(n_clusters=3,random_state=42)\n",
    "y_kmeans = kmeans.fit_predict(X)\n",
    "y_kmeans"
   ]
  },
  {
   "cell_type": "code",
   "execution_count": 115,
   "id": "e7fcea56",
   "metadata": {},
   "outputs": [
    {
     "data": {
      "text/plain": [
       "array([2, 2, 2, 2, 2, 2, 2, 2, 2, 2, 2, 2, 2, 2, 2, 2, 2, 2, 2, 2, 2, 2,\n",
       "       2, 2, 2, 2, 2, 2, 2, 2, 2, 2, 2, 2, 2, 2, 2, 2, 2, 2, 2, 1, 2, 2,\n",
       "       2, 2, 2, 2, 2, 2, 0, 0, 0, 1, 0, 1, 0, 1, 0, 1, 1, 1, 1, 1, 1, 0,\n",
       "       1, 1, 1, 1, 0, 1, 1, 1, 0, 0, 0, 0, 1, 1, 1, 1, 1, 1, 1, 0, 0, 1,\n",
       "       1, 1, 1, 0, 1, 1, 1, 1, 1, 0, 1, 1, 0, 1, 0, 0, 0, 0, 1, 0, 1, 0,\n",
       "       0, 1, 0, 1, 1, 0, 0, 0, 0, 1, 0, 1, 0, 1, 0, 0, 1, 0, 0, 0, 0, 0,\n",
       "       0, 1, 1, 0, 0, 0, 1, 0, 0, 0, 1, 0, 0, 0, 1, 0, 0, 1])"
      ]
     },
     "execution_count": 115,
     "metadata": {},
     "output_type": "execute_result"
    }
   ],
   "source": [
    "kmeans.labels_"
   ]
  },
  {
   "cell_type": "code",
   "execution_count": 116,
   "id": "200690dc",
   "metadata": {},
   "outputs": [
    {
     "data": {
      "text/plain": [
       "array([[ 1.09616533,  0.09718925],\n",
       "       [-0.11190209, -0.95528589],\n",
       "       [-1.00206653,  0.89510445]])"
      ]
     },
     "execution_count": 116,
     "metadata": {},
     "output_type": "execute_result"
    }
   ],
   "source": [
    "#For centroids\n",
    "kmeans.cluster_centers_"
   ]
  },
  {
   "cell_type": "code",
   "execution_count": 117,
   "id": "2f072c2d",
   "metadata": {},
   "outputs": [
    {
     "data": {
      "text/plain": [
       "array([ 1.03205722, -0.1249576 ,  0.33784833,  0.10644536,  1.26346019,\n",
       "        1.95766909,  0.80065426,  0.80065426, -0.35636057,  0.10644536,\n",
       "        1.49486315,  0.80065426, -0.1249576 , -0.1249576 ,  2.18907205,\n",
       "        3.11468391,  1.95766909,  1.03205722,  1.72626612,  1.72626612,\n",
       "        0.80065426,  1.49486315,  1.26346019,  0.56925129,  0.80065426,\n",
       "       -0.1249576 ,  0.80065426,  1.03205722,  0.80065426,  0.33784833,\n",
       "        0.10644536,  0.80065426,  2.42047502,  2.65187798,  0.10644536,\n",
       "        0.33784833,  1.03205722,  0.10644536, -0.1249576 ,  0.80065426,\n",
       "        1.03205722, -1.74477836,  0.33784833,  1.03205722,  1.72626612,\n",
       "       -0.1249576 ,  1.72626612,  0.33784833,  1.49486315,  0.56925129,\n",
       "        0.33784833,  0.33784833,  0.10644536, -1.74477836, -0.58776353,\n",
       "       -0.58776353,  0.56925129, -1.51337539, -0.35636057, -0.8191665 ,\n",
       "       -2.43898725, -0.1249576 , -1.97618132, -0.35636057, -0.35636057,\n",
       "        0.10644536, -0.1249576 , -0.8191665 , -1.97618132, -1.28197243,\n",
       "        0.33784833, -0.58776353, -1.28197243, -0.58776353, -0.35636057,\n",
       "       -0.1249576 , -0.58776353, -0.1249576 , -0.35636057, -1.05056946,\n",
       "       -1.51337539, -1.51337539, -0.8191665 , -0.8191665 , -0.1249576 ,\n",
       "        0.80065426,  0.10644536, -1.74477836, -0.1249576 , -1.28197243,\n",
       "       -1.05056946, -0.1249576 , -1.05056946, -1.74477836, -0.8191665 ,\n",
       "       -0.1249576 , -0.35636057, -0.35636057, -1.28197243, -0.58776353,\n",
       "        0.56925129, -0.8191665 , -0.1249576 , -0.35636057, -0.1249576 ,\n",
       "       -0.1249576 , -1.28197243, -0.35636057, -1.28197243,  1.26346019,\n",
       "        0.33784833, -0.8191665 , -0.1249576 , -1.28197243, -0.58776353,\n",
       "        0.33784833, -0.1249576 ,  1.72626612, -1.05056946, -1.97618132,\n",
       "        0.33784833, -0.58776353, -0.58776353, -0.8191665 ,  0.56925129,\n",
       "        0.33784833, -0.58776353, -0.1249576 , -0.58776353, -0.1249576 ,\n",
       "       -0.58776353,  1.72626612, -0.58776353, -0.58776353, -1.05056946,\n",
       "       -0.1249576 ,  0.80065426,  0.10644536, -0.1249576 ,  0.10644536,\n",
       "        0.10644536,  0.10644536, -0.8191665 ,  0.33784833,  0.56925129,\n",
       "       -0.1249576 , -1.28197243, -0.1249576 ,  0.80065426, -0.1249576 ])"
      ]
     },
     "execution_count": 117,
     "metadata": {},
     "output_type": "execute_result"
    }
   ],
   "source": [
    "X[:,0]\n",
    "X[:,1]"
   ]
  },
  {
   "cell_type": "code",
   "execution_count": 118,
   "id": "fba61598",
   "metadata": {},
   "outputs": [
    {
     "data": {
      "image/png": "[encoded data removed]",
      "text/plain": [
       "<Figure size 936x432 with 1 Axes>"
      ]
     },
     "metadata": {
      "needs_background": "light"
     },
     "output_type": "display_data"
    }
   ],
   "source": [
    "#Visualize the data\n",
    "plt.figure(figsize=(13,6))\n",
    "plt.scatter(X[y_kmeans == 0,0], X[y_kmeans == 0,1], s=100, c=\"blue\", label =\"Cluster1\")\n",
    "plt.scatter(X[y_kmeans == 1,0], X[y_kmeans == 1,1], s=100, c=\"red\", label =\"Cluster2\")\n",
    "plt.scatter(X[y_kmeans == 2,0], X[y_kmeans == 2,1], s=100, c=\"cyan\", label =\"Cluster3\")\n",
    "plt.scatter(kmeans.cluster_centers_[:,0], kmeans.cluster_centers_[:,1], s=300, c=\"orange\", label=\"Centroids\")\n",
    "plt.title(\"Center of Centroids\")\n",
    "plt.xlabel(\"Sepal Length\")\n",
    "plt.ylabel(\"Sepal Width\")\n",
    "plt.legend()\n",
    "plt.show()"
   ]
  },
  {
   "cell_type": "code",
   "execution_count": 119,
   "id": "cdfde207",
   "metadata": {},
   "outputs": [
    {
     "data": {
      "text/plain": [
       "0.4314195843519521"
      ]
     },
     "execution_count": 119,
     "metadata": {},
     "output_type": "execute_result"
    }
   ],
   "source": [
    "from sklearn.metrics import silhouette_score\n",
    "silhouette_score(X,kmeans.labels_)"
   ]
  },
  {
   "cell_type": "markdown",
   "id": "3c270868",
   "metadata": {},
   "source": [
    "# K-Means with Sepal length Width"
   ]
  },
  {
   "cell_type": "code",
   "execution_count": 120,
   "id": "0edeff5f",
   "metadata": {},
   "outputs": [
    {
     "data": {
      "text/html": [
       "<div>\n",
       "<style scoped>\n",
       "    .dataframe tbody tr th:only-of-type {\n",
       "        vertical-align: middle;\n",
       "    }\n",
       "\n",
       "    .dataframe tbody tr th {\n",
       "        vertical-align: top;\n",
       "    }\n",
       "\n",
       "    .dataframe thead th {\n",
       "        text-align: right;\n",
       "    }\n",
       "</style>\n",
       "<table border=\"1\" class=\"dataframe\">\n",
       "  <thead>\n",
       "    <tr style=\"text-align: right;\">\n",
       "      <th></th>\n",
       "      <th>Sepal Length</th>\n",
       "      <th>Sepal Width</th>\n",
       "      <th>Petal Length</th>\n",
       "      <th>Petal Width</th>\n",
       "      <th>Species</th>\n",
       "    </tr>\n",
       "  </thead>\n",
       "  <tbody>\n",
       "    <tr>\n",
       "      <th>0</th>\n",
       "      <td>5.1</td>\n",
       "      <td>3.5</td>\n",
       "      <td>1.4</td>\n",
       "      <td>0.2</td>\n",
       "      <td>Iris-setosa</td>\n",
       "    </tr>\n",
       "    <tr>\n",
       "      <th>1</th>\n",
       "      <td>4.9</td>\n",
       "      <td>3.0</td>\n",
       "      <td>1.4</td>\n",
       "      <td>0.2</td>\n",
       "      <td>Iris-setosa</td>\n",
       "    </tr>\n",
       "    <tr>\n",
       "      <th>2</th>\n",
       "      <td>4.7</td>\n",
       "      <td>3.2</td>\n",
       "      <td>1.3</td>\n",
       "      <td>0.2</td>\n",
       "      <td>Iris-setosa</td>\n",
       "    </tr>\n",
       "    <tr>\n",
       "      <th>3</th>\n",
       "      <td>4.6</td>\n",
       "      <td>3.1</td>\n",
       "      <td>1.5</td>\n",
       "      <td>0.2</td>\n",
       "      <td>Iris-setosa</td>\n",
       "    </tr>\n",
       "    <tr>\n",
       "      <th>4</th>\n",
       "      <td>5.0</td>\n",
       "      <td>3.6</td>\n",
       "      <td>1.4</td>\n",
       "      <td>0.2</td>\n",
       "      <td>Iris-setosa</td>\n",
       "    </tr>\n",
       "  </tbody>\n",
       "</table>\n",
       "</div>"
      ],
      "text/plain": [
       "   Sepal Length  Sepal Width  Petal Length  Petal Width      Species\n",
       "0           5.1          3.5           1.4          0.2  Iris-setosa\n",
       "1           4.9          3.0           1.4          0.2  Iris-setosa\n",
       "2           4.7          3.2           1.3          0.2  Iris-setosa\n",
       "3           4.6          3.1           1.5          0.2  Iris-setosa\n",
       "4           5.0          3.6           1.4          0.2  Iris-setosa"
      ]
     },
     "execution_count": 120,
     "metadata": {},
     "output_type": "execute_result"
    }
   ],
   "source": [
    "Iris.head()"
   ]
  },
  {
   "cell_type": "code",
   "execution_count": 121,
   "id": "548d7841",
   "metadata": {},
   "outputs": [
    {
     "data": {
      "text/html": [
       "<div>\n",
       "<style scoped>\n",
       "    .dataframe tbody tr th:only-of-type {\n",
       "        vertical-align: middle;\n",
       "    }\n",
       "\n",
       "    .dataframe tbody tr th {\n",
       "        vertical-align: top;\n",
       "    }\n",
       "\n",
       "    .dataframe thead th {\n",
       "        text-align: right;\n",
       "    }\n",
       "</style>\n",
       "<table border=\"1\" class=\"dataframe\">\n",
       "  <thead>\n",
       "    <tr style=\"text-align: right;\">\n",
       "      <th></th>\n",
       "      <th>Petal Length</th>\n",
       "      <th>Petal Width</th>\n",
       "    </tr>\n",
       "  </thead>\n",
       "  <tbody>\n",
       "    <tr>\n",
       "      <th>0</th>\n",
       "      <td>1.4</td>\n",
       "      <td>0.2</td>\n",
       "    </tr>\n",
       "    <tr>\n",
       "      <th>1</th>\n",
       "      <td>1.4</td>\n",
       "      <td>0.2</td>\n",
       "    </tr>\n",
       "    <tr>\n",
       "      <th>2</th>\n",
       "      <td>1.3</td>\n",
       "      <td>0.2</td>\n",
       "    </tr>\n",
       "    <tr>\n",
       "      <th>3</th>\n",
       "      <td>1.5</td>\n",
       "      <td>0.2</td>\n",
       "    </tr>\n",
       "    <tr>\n",
       "      <th>4</th>\n",
       "      <td>1.4</td>\n",
       "      <td>0.2</td>\n",
       "    </tr>\n",
       "    <tr>\n",
       "      <th>...</th>\n",
       "      <td>...</td>\n",
       "      <td>...</td>\n",
       "    </tr>\n",
       "    <tr>\n",
       "      <th>145</th>\n",
       "      <td>5.2</td>\n",
       "      <td>2.3</td>\n",
       "    </tr>\n",
       "    <tr>\n",
       "      <th>146</th>\n",
       "      <td>5.0</td>\n",
       "      <td>1.9</td>\n",
       "    </tr>\n",
       "    <tr>\n",
       "      <th>147</th>\n",
       "      <td>5.2</td>\n",
       "      <td>2.0</td>\n",
       "    </tr>\n",
       "    <tr>\n",
       "      <th>148</th>\n",
       "      <td>5.4</td>\n",
       "      <td>2.3</td>\n",
       "    </tr>\n",
       "    <tr>\n",
       "      <th>149</th>\n",
       "      <td>5.1</td>\n",
       "      <td>1.8</td>\n",
       "    </tr>\n",
       "  </tbody>\n",
       "</table>\n",
       "<p>150 rows × 2 columns</p>\n",
       "</div>"
      ],
      "text/plain": [
       "     Petal Length  Petal Width\n",
       "0             1.4          0.2\n",
       "1             1.4          0.2\n",
       "2             1.3          0.2\n",
       "3             1.5          0.2\n",
       "4             1.4          0.2\n",
       "..            ...          ...\n",
       "145           5.2          2.3\n",
       "146           5.0          1.9\n",
       "147           5.2          2.0\n",
       "148           5.4          2.3\n",
       "149           5.1          1.8\n",
       "\n",
       "[150 rows x 2 columns]"
      ]
     },
     "execution_count": 121,
     "metadata": {},
     "output_type": "execute_result"
    }
   ],
   "source": [
    "X = Iris.iloc[:,[2,3]]\n",
    "X"
   ]
  },
  {
   "cell_type": "code",
   "execution_count": 122,
   "id": "8dad6845",
   "metadata": {},
   "outputs": [
    {
     "data": {
      "text/plain": [
       "Text(0, 0.5, 'Petal Width')"
      ]
     },
     "execution_count": 122,
     "metadata": {},
     "output_type": "execute_result"
    },
    {
     "data": {
      "image/png": "[encoded data removed]",
      "text/plain": [
       "<Figure size 720x432 with 1 Axes>"
      ]
     },
     "metadata": {
      "needs_background": "light"
     },
     "output_type": "display_data"
    }
   ],
   "source": [
    "#Plot the figure\n",
    "plt.figure(figsize=(10,6))\n",
    "plt.scatter(Iris[\"Petal Length\"], Iris[\"Petal Width\"])\n",
    "plt.xlabel(\"Petal Length\")\n",
    "plt.ylabel(\"Petal Width\")"
   ]
  },
  {
   "cell_type": "markdown",
   "id": "85b0eba4",
   "metadata": {},
   "source": [
    "# Standardization"
   ]
  },
  {
   "cell_type": "code",
   "execution_count": 123,
   "id": "08fde9dc",
   "metadata": {},
   "outputs": [
    {
     "data": {
      "text/plain": [
       "array([[-1.34127240e+00, -1.31297673e+00],\n",
       "       [-1.34127240e+00, -1.31297673e+00],\n",
       "       [-1.39813811e+00, -1.31297673e+00],\n",
       "       [-1.28440670e+00, -1.31297673e+00],\n",
       "       [-1.34127240e+00, -1.31297673e+00],\n",
       "       [-1.17067529e+00, -1.05003079e+00],\n",
       "       [-1.34127240e+00, -1.18150376e+00],\n",
       "       [-1.28440670e+00, -1.31297673e+00],\n",
       "       [-1.34127240e+00, -1.31297673e+00],\n",
       "       [-1.28440670e+00, -1.44444970e+00],\n",
       "       [-1.28440670e+00, -1.31297673e+00],\n",
       "       [-1.22754100e+00, -1.31297673e+00],\n",
       "       [-1.34127240e+00, -1.44444970e+00],\n",
       "       [-1.51186952e+00, -1.44444970e+00],\n",
       "       [-1.45500381e+00, -1.31297673e+00],\n",
       "       [-1.28440670e+00, -1.05003079e+00],\n",
       "       [-1.39813811e+00, -1.05003079e+00],\n",
       "       [-1.34127240e+00, -1.18150376e+00],\n",
       "       [-1.17067529e+00, -1.18150376e+00],\n",
       "       [-1.28440670e+00, -1.18150376e+00],\n",
       "       [-1.17067529e+00, -1.31297673e+00],\n",
       "       [-1.28440670e+00, -1.05003079e+00],\n",
       "       [-1.56873522e+00, -1.31297673e+00],\n",
       "       [-1.17067529e+00, -9.18557817e-01],\n",
       "       [-1.05694388e+00, -1.31297673e+00],\n",
       "       [-1.22754100e+00, -1.31297673e+00],\n",
       "       [-1.22754100e+00, -1.05003079e+00],\n",
       "       [-1.28440670e+00, -1.31297673e+00],\n",
       "       [-1.34127240e+00, -1.31297673e+00],\n",
       "       [-1.22754100e+00, -1.31297673e+00],\n",
       "       [-1.22754100e+00, -1.31297673e+00],\n",
       "       [-1.28440670e+00, -1.05003079e+00],\n",
       "       [-1.28440670e+00, -1.44444970e+00],\n",
       "       [-1.34127240e+00, -1.31297673e+00],\n",
       "       [-1.28440670e+00, -1.44444970e+00],\n",
       "       [-1.45500381e+00, -1.31297673e+00],\n",
       "       [-1.39813811e+00, -1.31297673e+00],\n",
       "       [-1.28440670e+00, -1.44444970e+00],\n",
       "       [-1.39813811e+00, -1.31297673e+00],\n",
       "       [-1.28440670e+00, -1.31297673e+00],\n",
       "       [-1.39813811e+00, -1.18150376e+00],\n",
       "       [-1.39813811e+00, -1.18150376e+00],\n",
       "       [-1.39813811e+00, -1.31297673e+00],\n",
       "       [-1.22754100e+00, -7.87084847e-01],\n",
       "       [-1.05694388e+00, -1.05003079e+00],\n",
       "       [-1.34127240e+00, -1.18150376e+00],\n",
       "       [-1.22754100e+00, -1.31297673e+00],\n",
       "       [-1.34127240e+00, -1.31297673e+00],\n",
       "       [-1.28440670e+00, -1.31297673e+00],\n",
       "       [-1.34127240e+00, -1.31297673e+00],\n",
       "       [ 5.35295827e-01,  2.64698913e-01],\n",
       "       [ 4.21564419e-01,  3.96171883e-01],\n",
       "       [ 6.49027235e-01,  3.96171883e-01],\n",
       "       [ 1.37235899e-01,  1.33225943e-01],\n",
       "       [ 4.78430123e-01,  3.96171883e-01],\n",
       "       [ 4.21564419e-01,  1.33225943e-01],\n",
       "       [ 5.35295827e-01,  5.27644853e-01],\n",
       "       [-2.60824029e-01, -2.61192967e-01],\n",
       "       [ 4.78430123e-01,  1.33225943e-01],\n",
       "       [ 8.03701950e-02,  2.64698913e-01],\n",
       "       [-1.47092621e-01, -2.61192967e-01],\n",
       "       [ 2.50967307e-01,  3.96171883e-01],\n",
       "       [ 1.37235899e-01, -2.61192967e-01],\n",
       "       [ 5.35295827e-01,  2.64698913e-01],\n",
       "       [-9.02269170e-02,  1.33225943e-01],\n",
       "       [ 3.64698715e-01,  2.64698913e-01],\n",
       "       [ 4.21564419e-01,  3.96171883e-01],\n",
       "       [ 1.94101603e-01, -2.61192967e-01],\n",
       "       [ 4.21564419e-01,  3.96171883e-01],\n",
       "       [ 8.03701950e-02, -1.29719997e-01],\n",
       "       [ 5.92161531e-01,  7.90590793e-01],\n",
       "       [ 1.37235899e-01,  1.33225943e-01],\n",
       "       [ 6.49027235e-01,  3.96171883e-01],\n",
       "       [ 5.35295827e-01,  1.75297293e-03],\n",
       "       [ 3.07833011e-01,  1.33225943e-01],\n",
       "       [ 3.64698715e-01,  2.64698913e-01],\n",
       "       [ 5.92161531e-01,  2.64698913e-01],\n",
       "       [ 7.05892939e-01,  6.59117823e-01],\n",
       "       [ 4.21564419e-01,  3.96171883e-01],\n",
       "       [-1.47092621e-01, -2.61192967e-01],\n",
       "       [ 2.35044910e-02, -1.29719997e-01],\n",
       "       [-3.33612130e-02, -2.61192967e-01],\n",
       "       [ 8.03701950e-02,  1.75297293e-03],\n",
       "       [ 7.62758643e-01,  5.27644853e-01],\n",
       "       [ 4.21564419e-01,  3.96171883e-01],\n",
       "       [ 4.21564419e-01,  5.27644853e-01],\n",
       "       [ 5.35295827e-01,  3.96171883e-01],\n",
       "       [ 3.64698715e-01,  1.33225943e-01],\n",
       "       [ 1.94101603e-01,  1.33225943e-01],\n",
       "       [ 1.37235899e-01,  1.33225943e-01],\n",
       "       [ 3.64698715e-01,  1.75297293e-03],\n",
       "       [ 4.78430123e-01,  2.64698913e-01],\n",
       "       [ 1.37235899e-01,  1.75297293e-03],\n",
       "       [-2.60824029e-01, -2.61192967e-01],\n",
       "       [ 2.50967307e-01,  1.33225943e-01],\n",
       "       [ 2.50967307e-01,  1.75297293e-03],\n",
       "       [ 2.50967307e-01,  1.33225943e-01],\n",
       "       [ 3.07833011e-01,  1.33225943e-01],\n",
       "       [-4.31421141e-01, -1.29719997e-01],\n",
       "       [ 1.94101603e-01,  1.33225943e-01],\n",
       "       [ 1.27454998e+00,  1.71090158e+00],\n",
       "       [ 7.62758643e-01,  9.22063763e-01],\n",
       "       [ 1.21768427e+00,  1.18500970e+00],\n",
       "       [ 1.04708716e+00,  7.90590793e-01],\n",
       "       [ 1.16081857e+00,  1.31648267e+00],\n",
       "       [ 1.61574420e+00,  1.18500970e+00],\n",
       "       [ 4.21564419e-01,  6.59117823e-01],\n",
       "       [ 1.44514709e+00,  7.90590793e-01],\n",
       "       [ 1.16081857e+00,  7.90590793e-01],\n",
       "       [ 1.33141568e+00,  1.71090158e+00],\n",
       "       [ 7.62758643e-01,  1.05353673e+00],\n",
       "       [ 8.76490051e-01,  9.22063763e-01],\n",
       "       [ 9.90221459e-01,  1.18500970e+00],\n",
       "       [ 7.05892939e-01,  1.05353673e+00],\n",
       "       [ 7.62758643e-01,  1.57942861e+00],\n",
       "       [ 8.76490051e-01,  1.44795564e+00],\n",
       "       [ 9.90221459e-01,  7.90590793e-01],\n",
       "       [ 1.67260991e+00,  1.31648267e+00],\n",
       "       [ 1.78634131e+00,  1.44795564e+00],\n",
       "       [ 7.05892939e-01,  3.96171883e-01],\n",
       "       [ 1.10395287e+00,  1.44795564e+00],\n",
       "       [ 6.49027235e-01,  1.05353673e+00],\n",
       "       [ 1.67260991e+00,  1.05353673e+00],\n",
       "       [ 6.49027235e-01,  7.90590793e-01],\n",
       "       [ 1.10395287e+00,  1.18500970e+00],\n",
       "       [ 1.27454998e+00,  7.90590793e-01],\n",
       "       [ 5.92161531e-01,  7.90590793e-01],\n",
       "       [ 6.49027235e-01,  7.90590793e-01],\n",
       "       [ 1.04708716e+00,  1.18500970e+00],\n",
       "       [ 1.16081857e+00,  5.27644853e-01],\n",
       "       [ 1.33141568e+00,  9.22063763e-01],\n",
       "       [ 1.50201279e+00,  1.05353673e+00],\n",
       "       [ 1.04708716e+00,  1.31648267e+00],\n",
       "       [ 7.62758643e-01,  3.96171883e-01],\n",
       "       [ 1.04708716e+00,  2.64698913e-01],\n",
       "       [ 1.33141568e+00,  1.44795564e+00],\n",
       "       [ 1.04708716e+00,  1.57942861e+00],\n",
       "       [ 9.90221459e-01,  7.90590793e-01],\n",
       "       [ 5.92161531e-01,  7.90590793e-01],\n",
       "       [ 9.33355755e-01,  1.18500970e+00],\n",
       "       [ 1.04708716e+00,  1.57942861e+00],\n",
       "       [ 7.62758643e-01,  1.44795564e+00],\n",
       "       [ 7.62758643e-01,  9.22063763e-01],\n",
       "       [ 1.21768427e+00,  1.44795564e+00],\n",
       "       [ 1.10395287e+00,  1.71090158e+00],\n",
       "       [ 8.19624347e-01,  1.44795564e+00],\n",
       "       [ 7.05892939e-01,  9.22063763e-01],\n",
       "       [ 8.19624347e-01,  1.05353673e+00],\n",
       "       [ 9.33355755e-01,  1.44795564e+00],\n",
       "       [ 7.62758643e-01,  7.90590793e-01]])"
      ]
     },
     "execution_count": 123,
     "metadata": {},
     "output_type": "execute_result"
    }
   ],
   "source": [
    "X = scaler.fit_transform(X)\n",
    "X"
   ]
  },
  {
   "cell_type": "markdown",
   "id": "593f3a19",
   "metadata": {},
   "source": [
    "# Using Elbow Method with Inertia"
   ]
  },
  {
   "cell_type": "code",
   "execution_count": 124,
   "id": "cc21b0b2",
   "metadata": {},
   "outputs": [
    {
     "name": "stderr",
     "output_type": "stream",
     "text": [
      "C:\\Users\\HP\\anaconda3\\lib\\site-packages\\sklearn\\cluster\\_kmeans.py:881: UserWarning: KMeans is known to have a memory leak on Windows with MKL, when there are less chunks than available threads. You can avoid it by setting the environment variable OMP_NUM_THREADS=1.\n",
      "  warnings.warn(\n"
     ]
    }
   ],
   "source": [
    "from sklearn.cluster import KMeans\n",
    "wcss1 = []\n",
    "for i in range(1,11):\n",
    "    kmeans = KMeans(n_clusters=i, random_state=42)\n",
    "    kmeans.fit(X)\n",
    "    wcss1.append(kmeans.inertia_)\n"
   ]
  },
  {
   "cell_type": "code",
   "execution_count": 125,
   "id": "6719a1a7",
   "metadata": {},
   "outputs": [
    {
     "data": {
      "image/png": "[encoded data removed]",
      "text/plain": [
       "<Figure size 720x432 with 1 Axes>"
      ]
     },
     "metadata": {
      "needs_background": "light"
     },
     "output_type": "display_data"
    }
   ],
   "source": [
    "plt.figure(figsize=(10,6))\n",
    "plt.plot(range(1,11), wcss1, marker='o')\n",
    "plt.title(\"Elboe-Method\")\n",
    "plt.xlabel(\"No of Clusters\")\n",
    "plt.ylabel(\"Inertia\")\n",
    "plt.show()"
   ]
  },
  {
   "cell_type": "markdown",
   "id": "295a2d4b",
   "metadata": {},
   "source": [
    "# From the above Elbow mthod taking k=3"
   ]
  },
  {
   "cell_type": "code",
   "execution_count": 126,
   "id": "3e1f59c8",
   "metadata": {},
   "outputs": [
    {
     "data": {
      "text/plain": [
       "array([1, 1, 1, 1, 1, 1, 1, 1, 1, 1, 1, 1, 1, 1, 1, 1, 1, 1, 1, 1, 1, 1,\n",
       "       1, 1, 1, 1, 1, 1, 1, 1, 1, 1, 1, 1, 1, 1, 1, 1, 1, 1, 1, 1, 1, 1,\n",
       "       1, 1, 1, 1, 1, 1, 2, 2, 2, 2, 2, 2, 2, 2, 2, 2, 2, 2, 2, 2, 2, 2,\n",
       "       2, 2, 2, 2, 0, 2, 2, 2, 2, 2, 2, 0, 2, 2, 2, 2, 2, 2, 2, 2, 2, 2,\n",
       "       2, 2, 2, 2, 2, 2, 2, 2, 2, 2, 2, 2, 0, 0, 0, 0, 0, 0, 2, 0, 0, 0,\n",
       "       0, 0, 0, 0, 0, 0, 0, 0, 0, 2, 0, 0, 0, 0, 0, 0, 0, 0, 0, 0, 0, 0,\n",
       "       0, 2, 2, 0, 0, 0, 0, 0, 0, 0, 0, 0, 0, 0, 0, 0, 0, 0])"
      ]
     },
     "execution_count": 126,
     "metadata": {},
     "output_type": "execute_result"
    }
   ],
   "source": [
    "kmeans = KMeans(n_clusters=3,random_state=42)\n",
    "y_kmeans = kmeans.fit_predict(X)\n",
    "y_kmeans"
   ]
  },
  {
   "cell_type": "code",
   "execution_count": 127,
   "id": "5baaf198",
   "metadata": {},
   "outputs": [
    {
     "data": {
      "text/plain": [
       "array([1, 1, 1, 1, 1, 1, 1, 1, 1, 1, 1, 1, 1, 1, 1, 1, 1, 1, 1, 1, 1, 1,\n",
       "       1, 1, 1, 1, 1, 1, 1, 1, 1, 1, 1, 1, 1, 1, 1, 1, 1, 1, 1, 1, 1, 1,\n",
       "       1, 1, 1, 1, 1, 1, 2, 2, 2, 2, 2, 2, 2, 2, 2, 2, 2, 2, 2, 2, 2, 2,\n",
       "       2, 2, 2, 2, 0, 2, 2, 2, 2, 2, 2, 0, 2, 2, 2, 2, 2, 2, 2, 2, 2, 2,\n",
       "       2, 2, 2, 2, 2, 2, 2, 2, 2, 2, 2, 2, 0, 0, 0, 0, 0, 0, 2, 0, 0, 0,\n",
       "       0, 0, 0, 0, 0, 0, 0, 0, 0, 2, 0, 0, 0, 0, 0, 0, 0, 0, 0, 0, 0, 0,\n",
       "       0, 2, 2, 0, 0, 0, 0, 0, 0, 0, 0, 0, 0, 0, 0, 0, 0, 0])"
      ]
     },
     "execution_count": 127,
     "metadata": {},
     "output_type": "execute_result"
    }
   ],
   "source": [
    "kmeans.labels_"
   ]
  },
  {
   "cell_type": "code",
   "execution_count": 128,
   "id": "c14f80ad",
   "metadata": {},
   "outputs": [
    {
     "data": {
      "text/plain": [
       "array([[ 1.02813193,  1.12749028],\n",
       "       [-1.30487835, -1.25512862],\n",
       "       [ 0.30564587,  0.16609419]])"
      ]
     },
     "execution_count": 128,
     "metadata": {},
     "output_type": "execute_result"
    }
   ],
   "source": [
    "kmeans.cluster_centers_"
   ]
  },
  {
   "cell_type": "code",
   "execution_count": 129,
   "id": "ba3c6562",
   "metadata": {},
   "outputs": [
    {
     "data": {
      "text/plain": [
       "array([-1.31297673, -1.31297673, -1.31297673, -1.31297673, -1.31297673,\n",
       "       -1.05003079, -1.18150376, -1.31297673, -1.31297673, -1.4444497 ,\n",
       "       -1.31297673, -1.31297673, -1.4444497 , -1.4444497 , -1.31297673,\n",
       "       -1.05003079, -1.05003079, -1.18150376, -1.18150376, -1.18150376,\n",
       "       -1.31297673, -1.05003079, -1.31297673, -0.91855782, -1.31297673,\n",
       "       -1.31297673, -1.05003079, -1.31297673, -1.31297673, -1.31297673,\n",
       "       -1.31297673, -1.05003079, -1.4444497 , -1.31297673, -1.4444497 ,\n",
       "       -1.31297673, -1.31297673, -1.4444497 , -1.31297673, -1.31297673,\n",
       "       -1.18150376, -1.18150376, -1.31297673, -0.78708485, -1.05003079,\n",
       "       -1.18150376, -1.31297673, -1.31297673, -1.31297673, -1.31297673,\n",
       "        0.26469891,  0.39617188,  0.39617188,  0.13322594,  0.39617188,\n",
       "        0.13322594,  0.52764485, -0.26119297,  0.13322594,  0.26469891,\n",
       "       -0.26119297,  0.39617188, -0.26119297,  0.26469891,  0.13322594,\n",
       "        0.26469891,  0.39617188, -0.26119297,  0.39617188, -0.12972   ,\n",
       "        0.79059079,  0.13322594,  0.39617188,  0.00175297,  0.13322594,\n",
       "        0.26469891,  0.26469891,  0.65911782,  0.39617188, -0.26119297,\n",
       "       -0.12972   , -0.26119297,  0.00175297,  0.52764485,  0.39617188,\n",
       "        0.52764485,  0.39617188,  0.13322594,  0.13322594,  0.13322594,\n",
       "        0.00175297,  0.26469891,  0.00175297, -0.26119297,  0.13322594,\n",
       "        0.00175297,  0.13322594,  0.13322594, -0.12972   ,  0.13322594,\n",
       "        1.71090158,  0.92206376,  1.1850097 ,  0.79059079,  1.31648267,\n",
       "        1.1850097 ,  0.65911782,  0.79059079,  0.79059079,  1.71090158,\n",
       "        1.05353673,  0.92206376,  1.1850097 ,  1.05353673,  1.57942861,\n",
       "        1.44795564,  0.79059079,  1.31648267,  1.44795564,  0.39617188,\n",
       "        1.44795564,  1.05353673,  1.05353673,  0.79059079,  1.1850097 ,\n",
       "        0.79059079,  0.79059079,  0.79059079,  1.1850097 ,  0.52764485,\n",
       "        0.92206376,  1.05353673,  1.31648267,  0.39617188,  0.26469891,\n",
       "        1.44795564,  1.57942861,  0.79059079,  0.79059079,  1.1850097 ,\n",
       "        1.57942861,  1.44795564,  0.92206376,  1.44795564,  1.71090158,\n",
       "        1.44795564,  0.92206376,  1.05353673,  1.44795564,  0.79059079])"
      ]
     },
     "execution_count": 129,
     "metadata": {},
     "output_type": "execute_result"
    }
   ],
   "source": [
    "X[:,0].shape\n",
    "X[:,1]"
   ]
  },
  {
   "cell_type": "code",
   "execution_count": 130,
   "id": "cd3bcb38",
   "metadata": {},
   "outputs": [
    {
     "data": {
      "text/plain": [
       "<matplotlib.collections.PathCollection at 0x206b1e14b80>"
      ]
     },
     "execution_count": 130,
     "metadata": {},
     "output_type": "execute_result"
    },
    {
     "data": {
      "image/png": "[encoded data removed]",
      "text/plain": [
       "<Figure size 432x288 with 1 Axes>"
      ]
     },
     "metadata": {
      "needs_background": "light"
     },
     "output_type": "display_data"
    }
   ],
   "source": [
    "plt.scatter(X[:,0],X[:,1])"
   ]
  },
  {
   "cell_type": "code",
   "execution_count": 131,
   "id": "c99eee32",
   "metadata": {},
   "outputs": [
    {
     "data": {
      "image/png": "[encoded data removed]",
      "text/plain": [
       "<Figure size 936x432 with 1 Axes>"
      ]
     },
     "metadata": {
      "needs_background": "light"
     },
     "output_type": "display_data"
    }
   ],
   "source": [
    "#Visualize the data\n",
    "plt.figure(figsize=(13,6))\n",
    "plt.scatter(X[y_kmeans == 0,0], X[y_kmeans == 0,1], s=100, c=\"black\", label =\"Cluster1\")\n",
    "plt.scatter(X[y_kmeans == 1,0], X[y_kmeans == 1,1], s=100, c=\"green\", label =\"Cluster2\")\n",
    "plt.scatter(X[y_kmeans == 2,0], X[y_kmeans == 2,1], s=100, c=\"blue\", label =\"Cluster3\")\n",
    "plt.scatter(kmeans.cluster_centers_[:,0], kmeans.cluster_centers_[:,1], s=300, c=\"orange\", label=\"Centroids\")\n",
    "plt.title(\"Center of Centroids\")\n",
    "plt.xlabel(\"Petal Length\")\n",
    "plt.ylabel(\"Petal Width\")\n",
    "plt.legend()\n",
    "plt.show()"
   ]
  },
  {
   "cell_type": "code",
   "execution_count": 132,
   "id": "4fd6fa02",
   "metadata": {},
   "outputs": [
    {
     "data": {
      "text/plain": [
       "0.6736179401065728"
      ]
     },
     "execution_count": 132,
     "metadata": {},
     "output_type": "execute_result"
    }
   ],
   "source": [
    "silhouette_score(X,kmeans.labels_)"
   ]
  },
  {
   "cell_type": "code",
   "execution_count": null,
   "id": "d5ae28a1",
   "metadata": {},
   "outputs": [],
   "source": []
  },
  {
   "cell_type": "code",
   "execution_count": null,
   "id": "6e479834",
   "metadata": {},
   "outputs": [],
   "source": []
  }
 ],
 "metadata": {
  "kernelspec": {
   "display_name": "Python 3 (ipykernel)",
   "language": "python",
   "name": "python3"
  },
  "language_info": {
   "codemirror_mode": {
    "name": "ipython",
    "version": 3
   },
   "file_extension": ".py",
   "mimetype": "text/x-python",
   "name": "python",
   "nbconvert_exporter": "python",
   "pygments_lexer": "ipython3",
   "version": "3.9.7"
  }
 },
 "nbformat": 4,
 "nbformat_minor": 5
}
